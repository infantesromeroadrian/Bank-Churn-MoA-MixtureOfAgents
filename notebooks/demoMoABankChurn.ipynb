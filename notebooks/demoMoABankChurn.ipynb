{
 "cells": [
  {
   "metadata": {
    "ExecuteTime": {
     "end_time": "2024-08-10T14:48:58.974169Z",
     "start_time": "2024-08-10T14:48:58.968210Z"
    }
   },
   "cell_type": "code",
   "source": [
    "import time\n",
    "import logging\n",
    "from functools import wraps\n",
    "import pandas as pd\n",
    "import numpy as np\n",
    "from sklearn.preprocessing import StandardScaler, LabelEncoder\n",
    "from sklearn.impute import SimpleImputer\n",
    "from sklearn.base import BaseEstimator, ClassifierMixin\n",
    "from sklearn.model_selection import train_test_split\n",
    "from sklearn.linear_model import LogisticRegression\n",
    "from sklearn.tree import DecisionTreeClassifier\n",
    "from sklearn.ensemble import RandomForestClassifier\n",
    "from sklearn.utils.validation import check_X_y, check_array, check_is_fitted\n",
    "from sklearn.utils.multiclass import unique_labels\n",
    "from sklearn.metrics import accuracy_score, precision_score, recall_score, f1_score\n",
    "import mlflow\n",
    "import mlflow.sklearn\n",
    "import os"
   ],
   "id": "802b1af47b9fb8b7",
   "outputs": [],
   "execution_count": 2
  },
  {
   "cell_type": "code",
   "id": "initial_id",
   "metadata": {
    "collapsed": true,
    "ExecuteTime": {
     "end_time": "2024-08-10T14:48:59.835882Z",
     "start_time": "2024-08-10T14:48:59.833288Z"
    }
   },
   "source": [
    "# Configuración básica de logging\n",
    "logging.basicConfig(level=logging.INFO, format='%(asctime)s - %(name)s - %(levelname)s - %(message)s')\n",
    "logger = logging.getLogger(__name__)"
   ],
   "outputs": [],
   "execution_count": 3
  },
  {
   "metadata": {
    "ExecuteTime": {
     "end_time": "2024-08-10T14:49:00.280710Z",
     "start_time": "2024-08-10T14:49:00.277137Z"
    }
   },
   "cell_type": "code",
   "source": [
    "def timer_decorator(func):\n",
    "    \"\"\"Decorador para medir el tiempo de ejecución de una función.\"\"\"\n",
    "    @wraps(func)\n",
    "    def wrapper(*args, **kwargs):\n",
    "        start_time = time.time()\n",
    "        result = func(*args, **kwargs)\n",
    "        end_time = time.time()\n",
    "        logger.info(f\"Función {func.__name__} ejecutada en {end_time - start_time:.2f} segundos\")\n",
    "        return result\n",
    "    return wrapper\n",
    "\n",
    "\n",
    "def log_decorator(func):\n",
    "    \"\"\"Decorador para registrar la entrada y salida de una función.\"\"\"\n",
    "    @wraps(func)\n",
    "    def wrapper(*args, **kwargs):\n",
    "        logger.info(f\"Llamando a la función: {func.__name__}\")\n",
    "        result = func(*args, **kwargs)\n",
    "        logger.info(f\"Función {func.__name__} completada\")\n",
    "        return result\n",
    "    return wrapper\n",
    "\n",
    "\n",
    "def error_handler(func):\n",
    "    \"\"\"Decorador para manejar y registrar errores.\"\"\"\n",
    "    @wraps(func)\n",
    "    def wrapper(*args, **kwargs):\n",
    "        try:\n",
    "            return func(*args, **kwargs)\n",
    "        except Exception as e:\n",
    "            logger.error(f\"Error en la función {func.__name__}: {str(e)}\")\n",
    "            raise\n",
    "    return wrapper"
   ],
   "id": "4cfc0f4f9c0cea0b",
   "outputs": [],
   "execution_count": 4
  },
  {
   "metadata": {
    "ExecuteTime": {
     "end_time": "2024-08-10T14:49:00.917241Z",
     "start_time": "2024-08-10T14:49:00.914922Z"
    }
   },
   "cell_type": "code",
   "source": [
    "# Ejemplo de uso:\n",
    "@timer_decorator\n",
    "@log_decorator\n",
    "@error_handler\n",
    "def example_function(x, y):\n",
    "    \"\"\"Una función de ejemplo para demostrar los decoradores.\"\"\"\n",
    "    logger.info(f\"Operando con {x} y {y}\")\n",
    "    result = x / y\n",
    "    return result"
   ],
   "id": "38e8e326b23e26cd",
   "outputs": [],
   "execution_count": 5
  },
  {
   "metadata": {
    "ExecuteTime": {
     "end_time": "2024-08-10T14:49:01.356570Z",
     "start_time": "2024-08-10T14:49:01.351054Z"
    }
   },
   "cell_type": "code",
   "source": [
    "# Uso de la función de ejemplo:\n",
    "try:\n",
    "    result = example_function(10, 2)\n",
    "    print(f\"Resultado: {result}\")\n",
    "    result = example_function(10, 0)  # Esto generará un error\n",
    "except Exception as e:\n",
    "    print(f\"Se capturó una excepción: {e}\")"
   ],
   "id": "de305fb70161ab0d",
   "outputs": [
    {
     "name": "stderr",
     "output_type": "stream",
     "text": [
      "2024-08-10 16:49:01,351 - __main__ - INFO - Llamando a la función: example_function\n",
      "2024-08-10 16:49:01,352 - __main__ - INFO - Operando con 10 y 2\n",
      "2024-08-10 16:49:01,353 - __main__ - INFO - Función example_function completada\n",
      "2024-08-10 16:49:01,353 - __main__ - INFO - Función example_function ejecutada en 0.00 segundos\n",
      "2024-08-10 16:49:01,354 - __main__ - INFO - Llamando a la función: example_function\n",
      "2024-08-10 16:49:01,354 - __main__ - INFO - Operando con 10 y 0\n",
      "2024-08-10 16:49:01,355 - __main__ - ERROR - Error en la función example_function: division by zero\n"
     ]
    },
    {
     "name": "stdout",
     "output_type": "stream",
     "text": [
      "Resultado: 5.0\n",
      "Se capturó una excepción: division by zero\n"
     ]
    }
   ],
   "execution_count": 6
  },
  {
   "metadata": {
    "ExecuteTime": {
     "end_time": "2024-08-10T14:49:01.925422Z",
     "start_time": "2024-08-10T14:49:01.921385Z"
    }
   },
   "cell_type": "code",
   "source": [
    "class BankData:\n",
    "    def __init__(self, file_path):\n",
    "        self.file_path = file_path\n",
    "        self.data = None\n",
    "\n",
    "    @timer_decorator\n",
    "    @error_handler\n",
    "    @log_decorator\n",
    "    def load_data(self):\n",
    "        \"\"\"Carga los datos del archivo CSV.\"\"\"\n",
    "        try:\n",
    "            self.data = pd.read_csv(self.file_path)\n",
    "            print(f\"Datos cargados exitosamente. Shape: {self.data.shape}\")\n",
    "        except Exception as e:\n",
    "            print(f\"Error al cargar los datos: {e}\")\n",
    "\n",
    "    @timer_decorator\n",
    "    @error_handler\n",
    "    @log_decorator\n",
    "    def get_info(self):\n",
    "        \"\"\"Obtiene información básica del dataset.\"\"\"\n",
    "        if self.data is not None:\n",
    "            print(self.data.info())\n",
    "        else:\n",
    "            print(\"Los datos no han sido cargados aún.\")\n",
    "\n",
    "    @timer_decorator\n",
    "    @error_handler\n",
    "    @log_decorator\n",
    "    def check_nulls(self):\n",
    "        \"\"\"Verifica y muestra la cantidad de valores nulos por columna.\"\"\"\n",
    "        if self.data is not None:\n",
    "            null_counts = self.data.isnull().sum()\n",
    "            print(\"Conteo de valores nulos por columna:\")\n",
    "            print(null_counts)\n",
    "        else:\n",
    "            print(\"Los datos no han sido cargados aún.\")\n",
    "\n",
    "    @timer_decorator\n",
    "    @error_handler\n",
    "    @log_decorator\n",
    "    def handle_nulls(self, strategy='drop'):\n",
    "        \"\"\"\n",
    "        Maneja los valores nulos en el dataset.\n",
    "\n",
    "        :param strategy: Estrategia para manejar nulos ('drop' o 'impute')\n",
    "        \"\"\"\n",
    "        if self.data is not None:\n",
    "            if strategy == 'drop':\n",
    "                self.data.dropna(inplace=True)\n",
    "                print(\"Filas con valores nulos eliminadas.\")\n",
    "            elif strategy == 'impute':\n",
    "                for column in self.data.columns:\n",
    "                    if self.data[column].dtype == 'object':\n",
    "                        self.data[column].fillna(self.data[column].mode()[0], inplace=True)\n",
    "                    else:\n",
    "                        self.data[column].fillna(self.data[column].mean(), inplace=True)\n",
    "                print(\"Valores nulos imputados.\")\n",
    "            else:\n",
    "                print(\"Estrategia no reconocida. Use 'drop' o 'impute'.\")\n",
    "        else:\n",
    "            print(\"Los datos no han sido cargados aún.\")"
   ],
   "id": "c14f65f55a980ab6",
   "outputs": [],
   "execution_count": 7
  },
  {
   "metadata": {
    "ExecuteTime": {
     "end_time": "2024-08-10T14:49:02.675326Z",
     "start_time": "2024-08-10T14:49:02.654382Z"
    }
   },
   "cell_type": "code",
   "source": [
    "# Ejemplo de uso:\n",
    "bank_data = BankData(\"../data/raw_data/Churn_Modelling.csv\")\n",
    "bank_data.load_data()"
   ],
   "id": "a35a5163d9a3855c",
   "outputs": [
    {
     "name": "stderr",
     "output_type": "stream",
     "text": [
      "2024-08-10 16:49:02,655 - __main__ - INFO - Llamando a la función: load_data\n",
      "2024-08-10 16:49:02,673 - __main__ - INFO - Función load_data completada\n",
      "2024-08-10 16:49:02,673 - __main__ - INFO - Función load_data ejecutada en 0.02 segundos\n"
     ]
    },
    {
     "name": "stdout",
     "output_type": "stream",
     "text": [
      "Datos cargados exitosamente. Shape: (10000, 14)\n"
     ]
    }
   ],
   "execution_count": 8
  },
  {
   "metadata": {
    "ExecuteTime": {
     "end_time": "2024-08-10T14:49:05.957482Z",
     "start_time": "2024-08-10T14:49:05.942391Z"
    }
   },
   "cell_type": "code",
   "source": "bank_data.get_info()",
   "id": "6fefcd8dd0868772",
   "outputs": [
    {
     "name": "stderr",
     "output_type": "stream",
     "text": [
      "2024-08-10 16:49:05,943 - __main__ - INFO - Llamando a la función: get_info\n",
      "2024-08-10 16:49:05,955 - __main__ - INFO - Función get_info completada\n",
      "2024-08-10 16:49:05,956 - __main__ - INFO - Función get_info ejecutada en 0.01 segundos\n"
     ]
    },
    {
     "name": "stdout",
     "output_type": "stream",
     "text": [
      "<class 'pandas.core.frame.DataFrame'>\n",
      "RangeIndex: 10000 entries, 0 to 9999\n",
      "Data columns (total 14 columns):\n",
      " #   Column           Non-Null Count  Dtype  \n",
      "---  ------           --------------  -----  \n",
      " 0   RowNumber        10000 non-null  int64  \n",
      " 1   CustomerId       10000 non-null  int64  \n",
      " 2   Surname          10000 non-null  object \n",
      " 3   CreditScore      10000 non-null  int64  \n",
      " 4   Geography        10000 non-null  object \n",
      " 5   Gender           10000 non-null  object \n",
      " 6   Age              10000 non-null  int64  \n",
      " 7   Tenure           10000 non-null  int64  \n",
      " 8   Balance          10000 non-null  float64\n",
      " 9   NumOfProducts    10000 non-null  int64  \n",
      " 10  HasCrCard        10000 non-null  int64  \n",
      " 11  IsActiveMember   10000 non-null  int64  \n",
      " 12  EstimatedSalary  10000 non-null  float64\n",
      " 13  Exited           10000 non-null  int64  \n",
      "dtypes: float64(2), int64(9), object(3)\n",
      "memory usage: 1.1+ MB\n",
      "None\n"
     ]
    }
   ],
   "execution_count": 9
  },
  {
   "metadata": {
    "ExecuteTime": {
     "end_time": "2024-08-10T14:49:07.145536Z",
     "start_time": "2024-08-10T14:49:07.138428Z"
    }
   },
   "cell_type": "code",
   "source": "bank_data.check_nulls()",
   "id": "9d651bdad5d1d0d9",
   "outputs": [
    {
     "name": "stderr",
     "output_type": "stream",
     "text": [
      "2024-08-10 16:49:07,139 - __main__ - INFO - Llamando a la función: check_nulls\n",
      "2024-08-10 16:49:07,143 - __main__ - INFO - Función check_nulls completada\n",
      "2024-08-10 16:49:07,143 - __main__ - INFO - Función check_nulls ejecutada en 0.00 segundos\n"
     ]
    },
    {
     "name": "stdout",
     "output_type": "stream",
     "text": [
      "Conteo de valores nulos por columna:\n",
      "RowNumber          0\n",
      "CustomerId         0\n",
      "Surname            0\n",
      "CreditScore        0\n",
      "Geography          0\n",
      "Gender             0\n",
      "Age                0\n",
      "Tenure             0\n",
      "Balance            0\n",
      "NumOfProducts      0\n",
      "HasCrCard          0\n",
      "IsActiveMember     0\n",
      "EstimatedSalary    0\n",
      "Exited             0\n",
      "dtype: int64\n"
     ]
    }
   ],
   "execution_count": 10
  },
  {
   "metadata": {
    "ExecuteTime": {
     "end_time": "2024-08-10T14:49:08.266013Z",
     "start_time": "2024-08-10T14:49:08.235240Z"
    }
   },
   "cell_type": "code",
   "source": [
    "# Vemos el dataset original\n",
    "bank_data.data.head()"
   ],
   "id": "b66c759292b78c38",
   "outputs": [
    {
     "data": {
      "text/plain": [
       "   RowNumber  CustomerId   Surname  CreditScore Geography  Gender  Age  \\\n",
       "0          1    15634602  Hargrave          619    France  Female   42   \n",
       "1          2    15647311      Hill          608     Spain  Female   41   \n",
       "2          3    15619304      Onio          502    France  Female   42   \n",
       "3          4    15701354      Boni          699    France  Female   39   \n",
       "4          5    15737888  Mitchell          850     Spain  Female   43   \n",
       "\n",
       "   Tenure    Balance  NumOfProducts  HasCrCard  IsActiveMember  \\\n",
       "0       2       0.00              1          1               1   \n",
       "1       1   83807.86              1          0               1   \n",
       "2       8  159660.80              3          1               0   \n",
       "3       1       0.00              2          0               0   \n",
       "4       2  125510.82              1          1               1   \n",
       "\n",
       "   EstimatedSalary  Exited  \n",
       "0        101348.88       1  \n",
       "1        112542.58       0  \n",
       "2        113931.57       1  \n",
       "3         93826.63       0  \n",
       "4         79084.10       0  "
      ],
      "text/html": [
       "<div>\n",
       "<style scoped>\n",
       "    .dataframe tbody tr th:only-of-type {\n",
       "        vertical-align: middle;\n",
       "    }\n",
       "\n",
       "    .dataframe tbody tr th {\n",
       "        vertical-align: top;\n",
       "    }\n",
       "\n",
       "    .dataframe thead th {\n",
       "        text-align: right;\n",
       "    }\n",
       "</style>\n",
       "<table border=\"1\" class=\"dataframe\">\n",
       "  <thead>\n",
       "    <tr style=\"text-align: right;\">\n",
       "      <th></th>\n",
       "      <th>RowNumber</th>\n",
       "      <th>CustomerId</th>\n",
       "      <th>Surname</th>\n",
       "      <th>CreditScore</th>\n",
       "      <th>Geography</th>\n",
       "      <th>Gender</th>\n",
       "      <th>Age</th>\n",
       "      <th>Tenure</th>\n",
       "      <th>Balance</th>\n",
       "      <th>NumOfProducts</th>\n",
       "      <th>HasCrCard</th>\n",
       "      <th>IsActiveMember</th>\n",
       "      <th>EstimatedSalary</th>\n",
       "      <th>Exited</th>\n",
       "    </tr>\n",
       "  </thead>\n",
       "  <tbody>\n",
       "    <tr>\n",
       "      <th>0</th>\n",
       "      <td>1</td>\n",
       "      <td>15634602</td>\n",
       "      <td>Hargrave</td>\n",
       "      <td>619</td>\n",
       "      <td>France</td>\n",
       "      <td>Female</td>\n",
       "      <td>42</td>\n",
       "      <td>2</td>\n",
       "      <td>0.00</td>\n",
       "      <td>1</td>\n",
       "      <td>1</td>\n",
       "      <td>1</td>\n",
       "      <td>101348.88</td>\n",
       "      <td>1</td>\n",
       "    </tr>\n",
       "    <tr>\n",
       "      <th>1</th>\n",
       "      <td>2</td>\n",
       "      <td>15647311</td>\n",
       "      <td>Hill</td>\n",
       "      <td>608</td>\n",
       "      <td>Spain</td>\n",
       "      <td>Female</td>\n",
       "      <td>41</td>\n",
       "      <td>1</td>\n",
       "      <td>83807.86</td>\n",
       "      <td>1</td>\n",
       "      <td>0</td>\n",
       "      <td>1</td>\n",
       "      <td>112542.58</td>\n",
       "      <td>0</td>\n",
       "    </tr>\n",
       "    <tr>\n",
       "      <th>2</th>\n",
       "      <td>3</td>\n",
       "      <td>15619304</td>\n",
       "      <td>Onio</td>\n",
       "      <td>502</td>\n",
       "      <td>France</td>\n",
       "      <td>Female</td>\n",
       "      <td>42</td>\n",
       "      <td>8</td>\n",
       "      <td>159660.80</td>\n",
       "      <td>3</td>\n",
       "      <td>1</td>\n",
       "      <td>0</td>\n",
       "      <td>113931.57</td>\n",
       "      <td>1</td>\n",
       "    </tr>\n",
       "    <tr>\n",
       "      <th>3</th>\n",
       "      <td>4</td>\n",
       "      <td>15701354</td>\n",
       "      <td>Boni</td>\n",
       "      <td>699</td>\n",
       "      <td>France</td>\n",
       "      <td>Female</td>\n",
       "      <td>39</td>\n",
       "      <td>1</td>\n",
       "      <td>0.00</td>\n",
       "      <td>2</td>\n",
       "      <td>0</td>\n",
       "      <td>0</td>\n",
       "      <td>93826.63</td>\n",
       "      <td>0</td>\n",
       "    </tr>\n",
       "    <tr>\n",
       "      <th>4</th>\n",
       "      <td>5</td>\n",
       "      <td>15737888</td>\n",
       "      <td>Mitchell</td>\n",
       "      <td>850</td>\n",
       "      <td>Spain</td>\n",
       "      <td>Female</td>\n",
       "      <td>43</td>\n",
       "      <td>2</td>\n",
       "      <td>125510.82</td>\n",
       "      <td>1</td>\n",
       "      <td>1</td>\n",
       "      <td>1</td>\n",
       "      <td>79084.10</td>\n",
       "      <td>0</td>\n",
       "    </tr>\n",
       "  </tbody>\n",
       "</table>\n",
       "</div>"
      ]
     },
     "execution_count": 11,
     "metadata": {},
     "output_type": "execute_result"
    }
   ],
   "execution_count": 11
  },
  {
   "metadata": {
    "ExecuteTime": {
     "end_time": "2024-08-10T14:49:09.229521Z",
     "start_time": "2024-08-10T14:49:09.224582Z"
    }
   },
   "cell_type": "code",
   "source": [
    "from sklearn.preprocessing import StandardScaler, LabelEncoder\n",
    "from sklearn.impute import SimpleImputer\n",
    "\n",
    "class DataPreparation:\n",
    "    def __init__(self, data):\n",
    "        self.data = data.copy()\n",
    "        self.numeric_columns = ['CreditScore', 'Age', 'Tenure', 'Balance', 'NumOfProducts', 'EstimatedSalary']\n",
    "        self.categorical_columns = ['Geography', 'Gender']\n",
    "        self.binary_columns = ['HasCrCard', 'IsActiveMember']\n",
    "\n",
    "    @timer_decorator\n",
    "    @error_handler\n",
    "    @log_decorator\n",
    "    def remove_irrelevant_columns(self):\n",
    "        \"\"\"Elimina columnas que no son relevantes para el análisis si existen.\"\"\"\n",
    "        columns_to_drop = ['RowNumber', 'CustomerId', 'Surname']\n",
    "        existing_columns = [col for col in columns_to_drop if col in self.data.columns]\n",
    "        if existing_columns:\n",
    "            self.data.drop(columns=existing_columns, inplace=True)\n",
    "        return self\n",
    "\n",
    "    @timer_decorator\n",
    "    @error_handler\n",
    "    @log_decorator\n",
    "    def handle_missing_values(self):\n",
    "        \"\"\"Maneja los valores faltantes en el conjunto de datos.\"\"\"\n",
    "        num_imputer = SimpleImputer(strategy='mean')\n",
    "        self.data[self.numeric_columns] = num_imputer.fit_transform(self.data[self.numeric_columns])\n",
    "        \n",
    "        cat_imputer = SimpleImputer(strategy='most_frequent')\n",
    "        self.data[self.categorical_columns] = cat_imputer.fit_transform(self.data[self.categorical_columns])\n",
    "        \n",
    "        return self\n",
    "\n",
    "    @timer_decorator\n",
    "    @error_handler\n",
    "    @log_decorator\n",
    "    def encode_categorical_variables(self):\n",
    "        \"\"\"Codifica las variables categóricas.\"\"\"\n",
    "        le = LabelEncoder()\n",
    "        for col in self.categorical_columns:\n",
    "            self.data[col] = le.fit_transform(self.data[col])\n",
    "        return self\n",
    "\n",
    "    @timer_decorator\n",
    "    @error_handler\n",
    "    @log_decorator\n",
    "    def normalize_numeric_features(self):\n",
    "        \"\"\"Normaliza las características numéricas.\"\"\"\n",
    "        scaler = StandardScaler()\n",
    "        self.data[self.numeric_columns] = scaler.fit_transform(self.data[self.numeric_columns])\n",
    "        return self\n",
    "\n",
    "    @timer_decorator\n",
    "    @error_handler\n",
    "    @log_decorator\n",
    "    def create_binary_flags(self):\n",
    "        \"\"\"Crea flags binarios para algunas características.\"\"\"\n",
    "        self.data['HasBalance'] = (self.data['Balance'] > 0).astype(int)\n",
    "        self.data['IsOlderThan40'] = (self.data['Age'] > 40).astype(int)\n",
    "        self.binary_columns.extend(['HasBalance', 'IsOlderThan40'])\n",
    "        return self\n",
    "\n",
    "    @timer_decorator\n",
    "    @error_handler\n",
    "    @log_decorator\n",
    "    def prepare_data(self):\n",
    "        \"\"\"Ejecuta todos los pasos de preparación de datos.\"\"\"\n",
    "        return (self.remove_irrelevant_columns()\n",
    "                    .handle_missing_values()\n",
    "                    .encode_categorical_variables()\n",
    "                    .normalize_numeric_features()\n",
    "                    .create_binary_flags())\n",
    "\n",
    "    @timer_decorator\n",
    "    @error_handler\n",
    "    @log_decorator\n",
    "    def get_prepared_data(self):\n",
    "        \"\"\"Devuelve los datos preparados.\"\"\"\n",
    "        return self.data"
   ],
   "id": "828c98eb1e352801",
   "outputs": [],
   "execution_count": 12
  },
  {
   "metadata": {
    "ExecuteTime": {
     "end_time": "2024-08-10T14:49:10.195242Z",
     "start_time": "2024-08-10T14:49:10.169147Z"
    }
   },
   "cell_type": "code",
   "source": [
    "# Ejemplo de uso:\n",
    "data_prep = DataPreparation(bank_data.data)\n",
    "prepared_data = data_prep.prepare_data().get_prepared_data()"
   ],
   "id": "14b22463bdac7b59",
   "outputs": [
    {
     "name": "stderr",
     "output_type": "stream",
     "text": [
      "2024-08-10 16:49:10,170 - __main__ - INFO - Llamando a la función: prepare_data\n",
      "2024-08-10 16:49:10,171 - __main__ - INFO - Llamando a la función: remove_irrelevant_columns\n",
      "2024-08-10 16:49:10,173 - __main__ - INFO - Función remove_irrelevant_columns completada\n",
      "2024-08-10 16:49:10,173 - __main__ - INFO - Función remove_irrelevant_columns ejecutada en 0.00 segundos\n",
      "2024-08-10 16:49:10,173 - __main__ - INFO - Llamando a la función: handle_missing_values\n",
      "2024-08-10 16:49:10,183 - __main__ - INFO - Función handle_missing_values completada\n",
      "2024-08-10 16:49:10,183 - __main__ - INFO - Función handle_missing_values ejecutada en 0.01 segundos\n",
      "2024-08-10 16:49:10,183 - __main__ - INFO - Llamando a la función: encode_categorical_variables\n",
      "2024-08-10 16:49:10,186 - __main__ - INFO - Función encode_categorical_variables completada\n",
      "2024-08-10 16:49:10,186 - __main__ - INFO - Función encode_categorical_variables ejecutada en 0.00 segundos\n",
      "2024-08-10 16:49:10,187 - __main__ - INFO - Llamando a la función: normalize_numeric_features\n",
      "2024-08-10 16:49:10,190 - __main__ - INFO - Función normalize_numeric_features completada\n",
      "2024-08-10 16:49:10,191 - __main__ - INFO - Función normalize_numeric_features ejecutada en 0.00 segundos\n",
      "2024-08-10 16:49:10,191 - __main__ - INFO - Llamando a la función: create_binary_flags\n",
      "2024-08-10 16:49:10,192 - __main__ - INFO - Función create_binary_flags completada\n",
      "2024-08-10 16:49:10,192 - __main__ - INFO - Función create_binary_flags ejecutada en 0.00 segundos\n",
      "2024-08-10 16:49:10,192 - __main__ - INFO - Función prepare_data completada\n",
      "2024-08-10 16:49:10,193 - __main__ - INFO - Función prepare_data ejecutada en 0.02 segundos\n",
      "2024-08-10 16:49:10,193 - __main__ - INFO - Llamando a la función: get_prepared_data\n",
      "2024-08-10 16:49:10,193 - __main__ - INFO - Función get_prepared_data completada\n",
      "2024-08-10 16:49:10,193 - __main__ - INFO - Función get_prepared_data ejecutada en 0.00 segundos\n"
     ]
    }
   ],
   "execution_count": 13
  },
  {
   "metadata": {
    "ExecuteTime": {
     "end_time": "2024-08-10T14:49:11.250058Z",
     "start_time": "2024-08-10T14:49:11.244209Z"
    }
   },
   "cell_type": "code",
   "source": [
    "# Vemos el dataset preparado\n",
    "prepared_data.head()"
   ],
   "id": "9740e84f18cf61dc",
   "outputs": [
    {
     "data": {
      "text/plain": [
       "   CreditScore  Geography  Gender       Age    Tenure   Balance  \\\n",
       "0    -0.326221          0       0  0.293517 -1.041760 -1.225848   \n",
       "1    -0.440036          2       0  0.198164 -1.387538  0.117350   \n",
       "2    -1.536794          0       0  0.293517  1.032908  1.333053   \n",
       "3     0.501521          0       0  0.007457 -1.387538 -1.225848   \n",
       "4     2.063884          2       0  0.388871 -1.041760  0.785728   \n",
       "\n",
       "   NumOfProducts  HasCrCard  IsActiveMember  EstimatedSalary  Exited  \\\n",
       "0      -0.911583          1               1         0.021886       1   \n",
       "1      -0.911583          0               1         0.216534       0   \n",
       "2       2.527057          1               0         0.240687       1   \n",
       "3       0.807737          0               0        -0.108918       0   \n",
       "4      -0.911583          1               1        -0.365276       0   \n",
       "\n",
       "   HasBalance  IsOlderThan40  \n",
       "0           0              0  \n",
       "1           1              0  \n",
       "2           1              0  \n",
       "3           0              0  \n",
       "4           1              0  "
      ],
      "text/html": [
       "<div>\n",
       "<style scoped>\n",
       "    .dataframe tbody tr th:only-of-type {\n",
       "        vertical-align: middle;\n",
       "    }\n",
       "\n",
       "    .dataframe tbody tr th {\n",
       "        vertical-align: top;\n",
       "    }\n",
       "\n",
       "    .dataframe thead th {\n",
       "        text-align: right;\n",
       "    }\n",
       "</style>\n",
       "<table border=\"1\" class=\"dataframe\">\n",
       "  <thead>\n",
       "    <tr style=\"text-align: right;\">\n",
       "      <th></th>\n",
       "      <th>CreditScore</th>\n",
       "      <th>Geography</th>\n",
       "      <th>Gender</th>\n",
       "      <th>Age</th>\n",
       "      <th>Tenure</th>\n",
       "      <th>Balance</th>\n",
       "      <th>NumOfProducts</th>\n",
       "      <th>HasCrCard</th>\n",
       "      <th>IsActiveMember</th>\n",
       "      <th>EstimatedSalary</th>\n",
       "      <th>Exited</th>\n",
       "      <th>HasBalance</th>\n",
       "      <th>IsOlderThan40</th>\n",
       "    </tr>\n",
       "  </thead>\n",
       "  <tbody>\n",
       "    <tr>\n",
       "      <th>0</th>\n",
       "      <td>-0.326221</td>\n",
       "      <td>0</td>\n",
       "      <td>0</td>\n",
       "      <td>0.293517</td>\n",
       "      <td>-1.041760</td>\n",
       "      <td>-1.225848</td>\n",
       "      <td>-0.911583</td>\n",
       "      <td>1</td>\n",
       "      <td>1</td>\n",
       "      <td>0.021886</td>\n",
       "      <td>1</td>\n",
       "      <td>0</td>\n",
       "      <td>0</td>\n",
       "    </tr>\n",
       "    <tr>\n",
       "      <th>1</th>\n",
       "      <td>-0.440036</td>\n",
       "      <td>2</td>\n",
       "      <td>0</td>\n",
       "      <td>0.198164</td>\n",
       "      <td>-1.387538</td>\n",
       "      <td>0.117350</td>\n",
       "      <td>-0.911583</td>\n",
       "      <td>0</td>\n",
       "      <td>1</td>\n",
       "      <td>0.216534</td>\n",
       "      <td>0</td>\n",
       "      <td>1</td>\n",
       "      <td>0</td>\n",
       "    </tr>\n",
       "    <tr>\n",
       "      <th>2</th>\n",
       "      <td>-1.536794</td>\n",
       "      <td>0</td>\n",
       "      <td>0</td>\n",
       "      <td>0.293517</td>\n",
       "      <td>1.032908</td>\n",
       "      <td>1.333053</td>\n",
       "      <td>2.527057</td>\n",
       "      <td>1</td>\n",
       "      <td>0</td>\n",
       "      <td>0.240687</td>\n",
       "      <td>1</td>\n",
       "      <td>1</td>\n",
       "      <td>0</td>\n",
       "    </tr>\n",
       "    <tr>\n",
       "      <th>3</th>\n",
       "      <td>0.501521</td>\n",
       "      <td>0</td>\n",
       "      <td>0</td>\n",
       "      <td>0.007457</td>\n",
       "      <td>-1.387538</td>\n",
       "      <td>-1.225848</td>\n",
       "      <td>0.807737</td>\n",
       "      <td>0</td>\n",
       "      <td>0</td>\n",
       "      <td>-0.108918</td>\n",
       "      <td>0</td>\n",
       "      <td>0</td>\n",
       "      <td>0</td>\n",
       "    </tr>\n",
       "    <tr>\n",
       "      <th>4</th>\n",
       "      <td>2.063884</td>\n",
       "      <td>2</td>\n",
       "      <td>0</td>\n",
       "      <td>0.388871</td>\n",
       "      <td>-1.041760</td>\n",
       "      <td>0.785728</td>\n",
       "      <td>-0.911583</td>\n",
       "      <td>1</td>\n",
       "      <td>1</td>\n",
       "      <td>-0.365276</td>\n",
       "      <td>0</td>\n",
       "      <td>1</td>\n",
       "      <td>0</td>\n",
       "    </tr>\n",
       "  </tbody>\n",
       "</table>\n",
       "</div>"
      ]
     },
     "execution_count": 14,
     "metadata": {},
     "output_type": "execute_result"
    }
   ],
   "execution_count": 14
  },
  {
   "metadata": {
    "ExecuteTime": {
     "end_time": "2024-08-10T14:49:12.116911Z",
     "start_time": "2024-08-10T14:49:12.062798Z"
    }
   },
   "cell_type": "code",
   "source": [
    "# Guardamos el dataset preparado\n",
    "prepared_data.to_csv(\"../data/processed_data/Churn_Modelling_Prepared.csv\", index=False)"
   ],
   "id": "2d05f6c4d2d24bc2",
   "outputs": [],
   "execution_count": 15
  },
  {
   "metadata": {
    "ExecuteTime": {
     "end_time": "2024-08-10T14:49:14.731473Z",
     "start_time": "2024-08-10T14:49:14.727960Z"
    }
   },
   "cell_type": "code",
   "source": [
    "# Guardamos el objeto data_prep\n",
    "\n",
    "import pickle\n",
    "\n",
    "with open(\"../models/data_preparation.pkl\", \"wb\") as f:\n",
    "    pickle.dump(data_prep, f)"
   ],
   "id": "ee593381e63b367f",
   "outputs": [],
   "execution_count": 16
  },
  {
   "metadata": {
    "ExecuteTime": {
     "end_time": "2024-08-10T14:49:15.332631Z",
     "start_time": "2024-08-10T14:49:15.327490Z"
    }
   },
   "cell_type": "code",
   "source": [
    "import pandas as pd\n",
    "import matplotlib.pyplot as plt\n",
    "import seaborn as sns\n",
    "from scipy import stats\n",
    "\n",
    "class ExploratoryDataAnalysis:\n",
    "    def __init__(self, data):\n",
    "        self.data = data\n",
    "\n",
    "    @timer_decorator\n",
    "    @error_handler\n",
    "    @log_decorator\n",
    "    def plot_histograms(self, columns):\n",
    "        \"\"\"Genera histogramas para las columnas especificadas.\"\"\"\n",
    "        fig, axes = plt.subplots(len(columns), 1, figsize=(10, 5*len(columns)))\n",
    "        for i, column in enumerate(columns):\n",
    "            sns.histplot(self.data[column], ax=axes[i] if len(columns) > 1 else axes)\n",
    "            axes[i].set_title(f'Distribución de {column}') if len(columns) > 1 else axes.set_title(f'Distribución de {column}')\n",
    "        plt.tight_layout()\n",
    "        plt.show()\n",
    "\n",
    "    @timer_decorator\n",
    "    @error_handler\n",
    "    @log_decorator\n",
    "    def plot_correlation_matrix(self):\n",
    "        \"\"\"Genera una matriz de correlación para las variables numéricas.\"\"\"\n",
    "        corr = self.data.corr()\n",
    "        plt.figure(figsize=(12, 10))\n",
    "        sns.heatmap(corr, annot=True, cmap='coolwarm', vmin=-1, vmax=1, center=0)\n",
    "        plt.title('Matriz de Correlación')\n",
    "        plt.show()\n",
    "\n",
    "    @timer_decorator\n",
    "    @error_handler\n",
    "    @log_decorator\n",
    "    def plot_boxplots(self, columns):\n",
    "        \"\"\"Genera boxplots para las columnas especificadas.\"\"\"\n",
    "        fig, axes = plt.subplots(len(columns), 1, figsize=(10, 5*len(columns)))\n",
    "        for i, column in enumerate(columns):\n",
    "            sns.boxplot(x=self.data[column], ax=axes[i] if len(columns) > 1 else axes)\n",
    "            axes[i].set_title(f'Boxplot de {column}') if len(columns) > 1 else axes.set_title(f'Boxplot de {column}')\n",
    "        plt.tight_layout()\n",
    "        plt.show()\n",
    "\n",
    "    @timer_decorator\n",
    "    @error_handler\n",
    "    @log_decorator\n",
    "    def print_summary_statistics(self):\n",
    "        \"\"\"Imprime estadísticas resumidas del dataset.\"\"\"\n",
    "        print(self.data.describe())\n",
    "\n",
    "    @timer_decorator\n",
    "    @error_handler\n",
    "    @log_decorator\n",
    "    def plot_target_distribution(self, target_column):\n",
    "        \"\"\"Genera un gráfico de barras para la distribución de la variable objetivo.\"\"\"\n",
    "        plt.figure(figsize=(10, 6))\n",
    "        sns.countplot(x=self.data[target_column])\n",
    "        plt.title(f'Distribución de {target_column}')\n",
    "        plt.show()"
   ],
   "id": "615a30bf5a16927d",
   "outputs": [],
   "execution_count": 17
  },
  {
   "metadata": {
    "ExecuteTime": {
     "end_time": "2024-08-10T14:49:15.988249Z",
     "start_time": "2024-08-10T14:49:15.986505Z"
    }
   },
   "cell_type": "code",
   "source": [
    "# Ejemplo de uso:\n",
    "\n",
    "eda = ExploratoryDataAnalysis(prepared_data)"
   ],
   "id": "a951c913d3b60791",
   "outputs": [],
   "execution_count": 18
  },
  {
   "metadata": {
    "ExecuteTime": {
     "end_time": "2024-08-10T14:49:17.062348Z",
     "start_time": "2024-08-10T14:49:16.332065Z"
    }
   },
   "cell_type": "code",
   "source": "eda.plot_histograms(['Age', 'CreditScore', 'Balance'])",
   "id": "f9dc93f20dc7395e",
   "outputs": [
    {
     "name": "stderr",
     "output_type": "stream",
     "text": [
      "2024-08-10 16:49:16,332 - __main__ - INFO - Llamando a la función: plot_histograms\n"
     ]
    },
    {
     "data": {
      "text/plain": [
       "<Figure size 1000x1500 with 3 Axes>"
      ],
      "image/png": "[encoded data removed]"
     },
     "metadata": {},
     "output_type": "display_data"
    },
    {
     "name": "stderr",
     "output_type": "stream",
     "text": [
      "2024-08-10 16:49:17,052 - __main__ - INFO - Función plot_histograms completada\n",
      "2024-08-10 16:49:17,057 - __main__ - INFO - Función plot_histograms ejecutada en 0.73 segundos\n"
     ]
    }
   ],
   "execution_count": 19
  },
  {
   "metadata": {
    "ExecuteTime": {
     "end_time": "2024-08-10T14:49:18.114295Z",
     "start_time": "2024-08-10T14:49:17.801122Z"
    }
   },
   "cell_type": "code",
   "source": "eda.plot_correlation_matrix()",
   "id": "7c21827b034dfa07",
   "outputs": [
    {
     "name": "stderr",
     "output_type": "stream",
     "text": [
      "2024-08-10 16:49:17,801 - __main__ - INFO - Llamando a la función: plot_correlation_matrix\n"
     ]
    },
    {
     "data": {
      "text/plain": [
       "<Figure size 1200x1000 with 2 Axes>"
      ],
      "image/png": "[encoded data removed]"
     },
     "metadata": {},
     "output_type": "display_data"
    },
    {
     "name": "stderr",
     "output_type": "stream",
     "text": [
      "2024-08-10 16:49:18,112 - __main__ - INFO - Función plot_correlation_matrix completada\n",
      "2024-08-10 16:49:18,113 - __main__ - INFO - Función plot_correlation_matrix ejecutada en 0.31 segundos\n"
     ]
    }
   ],
   "execution_count": 20
  },
  {
   "metadata": {
    "ExecuteTime": {
     "end_time": "2024-08-10T14:49:19.125419Z",
     "start_time": "2024-08-10T14:49:18.857962Z"
    }
   },
   "cell_type": "code",
   "source": "eda.plot_boxplots(['Age', 'CreditScore', 'Balance'])",
   "id": "111a2364f7c856b2",
   "outputs": [
    {
     "name": "stderr",
     "output_type": "stream",
     "text": [
      "2024-08-10 16:49:18,858 - __main__ - INFO - Llamando a la función: plot_boxplots\n"
     ]
    },
    {
     "data": {
      "text/plain": [
       "<Figure size 1000x1500 with 3 Axes>"
      ],
      "image/png": "[encoded data removed]"
     },
     "metadata": {},
     "output_type": "display_data"
    },
    {
     "name": "stderr",
     "output_type": "stream",
     "text": [
      "2024-08-10 16:49:19,123 - __main__ - INFO - Función plot_boxplots completada\n",
      "2024-08-10 16:49:19,124 - __main__ - INFO - Función plot_boxplots ejecutada en 0.27 segundos\n"
     ]
    }
   ],
   "execution_count": 21
  },
  {
   "metadata": {
    "ExecuteTime": {
     "end_time": "2024-08-10T14:49:20.125530Z",
     "start_time": "2024-08-10T14:49:20.112201Z"
    }
   },
   "cell_type": "code",
   "source": "eda.print_summary_statistics()",
   "id": "d21e67e4d335be19",
   "outputs": [
    {
     "name": "stderr",
     "output_type": "stream",
     "text": [
      "2024-08-10 16:49:20,112 - __main__ - INFO - Llamando a la función: print_summary_statistics\n",
      "2024-08-10 16:49:20,123 - __main__ - INFO - Función print_summary_statistics completada\n",
      "2024-08-10 16:49:20,124 - __main__ - INFO - Función print_summary_statistics ejecutada en 0.01 segundos\n"
     ]
    },
    {
     "name": "stdout",
     "output_type": "stream",
     "text": [
      "        CreditScore     Geography        Gender           Age        Tenure  \\\n",
      "count  1.000000e+04  10000.000000  10000.000000  1.000000e+04  1.000000e+04   \n",
      "mean  -4.824585e-16      0.746300      0.545700  2.318146e-16 -1.078249e-16   \n",
      "std    1.000050e+00      0.827529      0.497932  1.000050e+00  1.000050e+00   \n",
      "min   -3.109504e+00      0.000000      0.000000 -1.994969e+00 -1.733315e+00   \n",
      "25%   -6.883586e-01      0.000000      0.000000 -6.600185e-01 -6.959818e-01   \n",
      "50%    1.522218e-02      0.000000      1.000000 -1.832505e-01 -4.425957e-03   \n",
      "75%    6.981094e-01      1.000000      1.000000  4.842246e-01  6.871299e-01   \n",
      "max    2.063884e+00      2.000000      1.000000  5.061197e+00  1.724464e+00   \n",
      "\n",
      "            Balance  NumOfProducts    HasCrCard  IsActiveMember  \\\n",
      "count  1.000000e+04   1.000000e+04  10000.00000    10000.000000   \n",
      "mean  -6.252776e-17   1.634248e-17      0.70550        0.515100   \n",
      "std    1.000050e+00   1.000050e+00      0.45584        0.499797   \n",
      "min   -1.225848e+00  -9.115835e-01      0.00000        0.000000   \n",
      "25%   -1.225848e+00  -9.115835e-01      0.00000        0.000000   \n",
      "50%    3.319639e-01  -9.115835e-01      1.00000        1.000000   \n",
      "75%    8.199205e-01   8.077366e-01      1.00000        1.000000   \n",
      "max    2.795323e+00   4.246377e+00      1.00000        1.000000   \n",
      "\n",
      "       EstimatedSalary        Exited    HasBalance  IsOlderThan40  \n",
      "count     1.000000e+04  10000.000000  10000.000000        10000.0  \n",
      "mean     -2.877698e-17      0.203700      0.591900            0.0  \n",
      "std       1.000050e+00      0.402769      0.491506            0.0  \n",
      "min      -1.740268e+00      0.000000      0.000000            0.0  \n",
      "25%      -8.535935e-01      0.000000      0.000000            0.0  \n",
      "50%       1.802807e-03      0.000000      1.000000            0.0  \n",
      "75%       8.572431e-01      0.000000      1.000000            0.0  \n",
      "max       1.737200e+00      1.000000      1.000000            0.0  \n"
     ]
    }
   ],
   "execution_count": 22
  },
  {
   "metadata": {
    "ExecuteTime": {
     "end_time": "2024-08-10T14:49:21.547329Z",
     "start_time": "2024-08-10T14:49:21.463981Z"
    }
   },
   "cell_type": "code",
   "source": "eda.plot_target_distribution('Exited')",
   "id": "5b4af19413a67f6a",
   "outputs": [
    {
     "name": "stderr",
     "output_type": "stream",
     "text": [
      "2024-08-10 16:49:21,464 - __main__ - INFO - Llamando a la función: plot_target_distribution\n",
      "2024-08-10 16:49:21,477 - matplotlib.category - INFO - Using categorical units to plot a list of strings that are all parsable as floats or dates. If these strings should be plotted as numbers, cast to the appropriate data type before plotting.\n",
      "2024-08-10 16:49:21,484 - matplotlib.category - INFO - Using categorical units to plot a list of strings that are all parsable as floats or dates. If these strings should be plotted as numbers, cast to the appropriate data type before plotting.\n"
     ]
    },
    {
     "data": {
      "text/plain": [
       "<Figure size 1000x600 with 1 Axes>"
      ],
      "image/png": "[encoded data removed]"
     },
     "metadata": {},
     "output_type": "display_data"
    },
    {
     "name": "stderr",
     "output_type": "stream",
     "text": [
      "2024-08-10 16:49:21,545 - __main__ - INFO - Función plot_target_distribution completada\n",
      "2024-08-10 16:49:21,545 - __main__ - INFO - Función plot_target_distribution ejecutada en 0.08 segundos\n"
     ]
    }
   ],
   "execution_count": 23
  },
  {
   "metadata": {
    "ExecuteTime": {
     "end_time": "2024-08-10T14:49:26.335618Z",
     "start_time": "2024-08-10T14:49:26.326653Z"
    }
   },
   "cell_type": "code",
   "source": [
    "class MixtureOfAgents(BaseEstimator, ClassifierMixin):\n",
    "    def __init__(self, models=None, weights=None, experiment_name=\"MOA_Experiment\", data_dir=\"../data\"):\n",
    "        self.models = models or []\n",
    "        self.weights = weights\n",
    "        self.classes_ = None\n",
    "        self.experiment_name = experiment_name\n",
    "        self.data_dir = data_dir\n",
    "        mlflow.set_experiment(experiment_name)\n",
    "\n",
    "    @timer_decorator\n",
    "    @error_handler\n",
    "    @log_decorator\n",
    "    def add_model(self, model, weight=1.0):\n",
    "        \"\"\"Añade un modelo al conjunto.\"\"\"\n",
    "        self.models.append(model)\n",
    "        if self.weights is None:\n",
    "            self.weights = [1.0] * len(self.models)\n",
    "        else:\n",
    "            self.weights.append(weight)\n",
    "\n",
    "    @timer_decorator\n",
    "    @error_handler\n",
    "    @log_decorator\n",
    "    def split_and_save_data(self, X, y, test_size=0.2, val_size=0.2):\n",
    "        \"\"\"Divide los datos en conjuntos de entrenamiento, validación y prueba, y los guarda.\"\"\"\n",
    "        # Primera división: separar el conjunto de prueba\n",
    "        X_train_val, X_test, y_train_val, y_test = train_test_split(X, y, test_size=test_size, stratify=y, random_state=42)\n",
    "        \n",
    "        # Segunda división: separar el conjunto de validación del de entrenamiento\n",
    "        val_size_adjusted = val_size / (1 - test_size)\n",
    "        X_train, X_val, y_train, y_val = train_test_split(X_train_val, y_train_val, test_size=val_size_adjusted, stratify=y_train_val, random_state=42)\n",
    "\n",
    "        # Crear directorios si no existen\n",
    "        for dir_name in ['train', 'val', 'test']:\n",
    "            os.makedirs(os.path.join(self.data_dir, dir_name), exist_ok=True)\n",
    "\n",
    "        # Guardar los conjuntos de datos\n",
    "        pd.concat([X_train, y_train], axis=1).to_csv(os.path.join(self.data_dir, 'train', 'train_data.csv'), index=False)\n",
    "        pd.concat([X_val, y_val], axis=1).to_csv(os.path.join(self.data_dir, 'val', 'val_data.csv'), index=False)\n",
    "        pd.concat([X_test, y_test], axis=1).to_csv(os.path.join(self.data_dir, 'test', 'test_data.csv'), index=False)\n",
    "\n",
    "        return X_train, X_val, X_test, y_train, y_val, y_test\n",
    "\n",
    "    @timer_decorator\n",
    "    @error_handler\n",
    "    @log_decorator\n",
    "    def load_data(self, data_type='train'):\n",
    "        \"\"\"Carga los datos del directorio especificado.\"\"\"\n",
    "        file_path = os.path.join(self.data_dir, data_type, f'{data_type}_data.csv')\n",
    "        data = pd.read_csv(file_path)\n",
    "        y = data.pop('target')  # Asumimos que la columna objetivo se llama 'target'\n",
    "        X = data\n",
    "        return X, y\n",
    "\n",
    "    @timer_decorator\n",
    "    @error_handler\n",
    "    @log_decorator\n",
    "    def fit(self, X, y):\n",
    "        \"\"\"Entrena todos los modelos en el conjunto.\"\"\"\n",
    "        X, y = check_X_y(X, y)\n",
    "        self.classes_ = unique_labels(y)\n",
    "\n",
    "        with mlflow.start_run(run_name=\"MOA_Training\"):\n",
    "            for i, model in enumerate(self.models):\n",
    "                with mlflow.start_run(run_name=f\"Model_{i}_Training\", nested=True):\n",
    "                    model.fit(X, y)\n",
    "                    mlflow.log_param(f\"model_{i}\", type(model).__name__)\n",
    "                    mlflow.log_param(f\"weight_{i}\", self.weights[i])\n",
    "\n",
    "            mlflow.log_param(\"n_models\", len(self.models))\n",
    "            mlflow.sklearn.log_model(self, \"moa_model\")\n",
    "\n",
    "        return self\n",
    "\n",
    "    @timer_decorator\n",
    "    @error_handler\n",
    "    @log_decorator\n",
    "    def predict_proba(self, X):\n",
    "        \"\"\"Predice las probabilidades de clase para X.\"\"\"\n",
    "        check_is_fitted(self)\n",
    "        X = check_array(X)\n",
    "\n",
    "        predictions = []\n",
    "        for model, weight in zip(self.models, self.weights):\n",
    "            if hasattr(model, \"predict_proba\"):\n",
    "                pred = model.predict_proba(X)\n",
    "            else:\n",
    "                pred = np.eye(len(self.classes_))[model.predict(X)]\n",
    "            predictions.append(weight * pred)\n",
    "\n",
    "        return np.sum(predictions, axis=0) / np.sum(self.weights)\n",
    "\n",
    "    @timer_decorator\n",
    "    @error_handler\n",
    "    @log_decorator\n",
    "    def predict(self, X):\n",
    "        \"\"\"Predice las etiquetas de clase para X.\"\"\"\n",
    "        proba = self.predict_proba(X)\n",
    "        return self.classes_[np.argmax(proba, axis=1)]\n",
    "\n",
    "    @timer_decorator\n",
    "    @error_handler\n",
    "    @log_decorator\n",
    "    def evaluate(self, X, y):\n",
    "        \"\"\"Evalúa el rendimiento del modelo.\"\"\"\n",
    "        y_pred = self.predict(X)\n",
    "        metrics = {\n",
    "            'accuracy': accuracy_score(y, y_pred),\n",
    "            'precision': precision_score(y, y_pred, average='weighted'),\n",
    "            'recall': recall_score(y, y_pred, average='weighted'),\n",
    "            'f1': f1_score(y, y_pred, average='weighted')\n",
    "        }\n",
    "\n",
    "        with mlflow.start_run(run_name=\"MOA_Evaluation\"):\n",
    "            for metric_name, metric_value in metrics.items():\n",
    "                mlflow.log_metric(metric_name, metric_value)\n",
    "\n",
    "        return metrics"
   ],
   "id": "91623204fa2b9835",
   "outputs": [],
   "execution_count": 24
  },
  {
   "metadata": {
    "ExecuteTime": {
     "end_time": "2024-08-10T14:49:28.237356Z",
     "start_time": "2024-08-10T14:49:28.228998Z"
    }
   },
   "cell_type": "code",
   "source": [
    "# Ejemplo de uso:\n",
    "moa = MixtureOfAgents(experiment_name=\"Churn_Prediction_MOA\")"
   ],
   "id": "f16c322d95adf880",
   "outputs": [],
   "execution_count": 25
  },
  {
   "metadata": {
    "ExecuteTime": {
     "end_time": "2024-08-10T14:49:28.923100Z",
     "start_time": "2024-08-10T14:49:28.918447Z"
    }
   },
   "cell_type": "code",
   "source": [
    "moa.add_model(LogisticRegression(), weight=1.0)\n",
    "moa.add_model(DecisionTreeClassifier(), weight=0.8)\n",
    "moa.add_model(RandomForestClassifier(), weight=1.2)"
   ],
   "id": "79a02a237988a605",
   "outputs": [
    {
     "name": "stderr",
     "output_type": "stream",
     "text": [
      "2024-08-10 16:49:28,919 - __main__ - INFO - Llamando a la función: add_model\n",
      "2024-08-10 16:49:28,919 - __main__ - INFO - Función add_model completada\n",
      "2024-08-10 16:49:28,920 - __main__ - INFO - Función add_model ejecutada en 0.00 segundos\n",
      "2024-08-10 16:49:28,920 - __main__ - INFO - Llamando a la función: add_model\n",
      "2024-08-10 16:49:28,920 - __main__ - INFO - Función add_model completada\n",
      "2024-08-10 16:49:28,921 - __main__ - INFO - Función add_model ejecutada en 0.00 segundos\n",
      "2024-08-10 16:49:28,921 - __main__ - INFO - Llamando a la función: add_model\n",
      "2024-08-10 16:49:28,921 - __main__ - INFO - Función add_model completada\n",
      "2024-08-10 16:49:28,921 - __main__ - INFO - Función add_model ejecutada en 0.00 segundos\n"
     ]
    }
   ],
   "execution_count": 26
  },
  {
   "metadata": {
    "ExecuteTime": {
     "end_time": "2024-08-10T14:49:33.758349Z",
     "start_time": "2024-08-10T14:49:33.675580Z"
    }
   },
   "cell_type": "code",
   "source": [
    "# Dividir los datos\n",
    "\n",
    "X = prepared_data.drop('Exited', axis=1)\n",
    "y = prepared_data['Exited']\n",
    "X_train, X_val, X_test, y_train, y_val, y_test = moa.split_and_save_data(X, y)"
   ],
   "id": "8e79bb079dd71cb6",
   "outputs": [
    {
     "name": "stderr",
     "output_type": "stream",
     "text": [
      "2024-08-10 16:49:33,678 - __main__ - INFO - Llamando a la función: split_and_save_data\n",
      "2024-08-10 16:49:33,756 - __main__ - INFO - Función split_and_save_data completada\n",
      "2024-08-10 16:49:33,757 - __main__ - INFO - Función split_and_save_data ejecutada en 0.08 segundos\n"
     ]
    }
   ],
   "execution_count": 27
  },
  {
   "metadata": {
    "ExecuteTime": {
     "end_time": "2024-08-10T14:49:37.466749Z",
     "start_time": "2024-08-10T14:49:34.571446Z"
    }
   },
   "cell_type": "code",
   "source": [
    "# Entrenar el modelo\n",
    "moa.fit(X_train, y_train)"
   ],
   "id": "291703cb8279a53f",
   "outputs": [
    {
     "name": "stderr",
     "output_type": "stream",
     "text": [
      "2024-08-10 16:49:34,572 - __main__ - INFO - Llamando a la función: fit\n",
      "2024/08/10 16:49:37 WARNING mlflow.models.model: Input example should be provided to infer model signature if the model signature is not provided when logging the model.\n",
      "2024-08-10 16:49:37,460 - __main__ - INFO - Función fit completada\n",
      "2024-08-10 16:49:37,460 - __main__ - INFO - Función fit ejecutada en 2.89 segundos\n"
     ]
    },
    {
     "data": {
      "text/plain": [
       "MixtureOfAgents(experiment_name='Churn_Prediction_MOA',\n",
       "                models=[LogisticRegression(), DecisionTreeClassifier(),\n",
       "                        RandomForestClassifier()],\n",
       "                weights=[1.0, 0.8, 1.2])"
      ],
      "text/html": [
       "<style>#sk-container-id-1 {\n",
       "  /* Definition of color scheme common for light and dark mode */\n",
       "  --sklearn-color-text: black;\n",
       "  --sklearn-color-line: gray;\n",
       "  /* Definition of color scheme for unfitted estimators */\n",
       "  --sklearn-color-unfitted-level-0: #fff5e6;\n",
       "  --sklearn-color-unfitted-level-1: #f6e4d2;\n",
       "  --sklearn-color-unfitted-level-2: #ffe0b3;\n",
       "  --sklearn-color-unfitted-level-3: chocolate;\n",
       "  /* Definition of color scheme for fitted estimators */\n",
       "  --sklearn-color-fitted-level-0: #f0f8ff;\n",
       "  --sklearn-color-fitted-level-1: #d4ebff;\n",
       "  --sklearn-color-fitted-level-2: #b3dbfd;\n",
       "  --sklearn-color-fitted-level-3: cornflowerblue;\n",
       "\n",
       "  /* Specific color for light theme */\n",
       "  --sklearn-color-text-on-default-background: var(--sg-text-color, var(--theme-code-foreground, var(--jp-content-font-color1, black)));\n",
       "  --sklearn-color-background: var(--sg-background-color, var(--theme-background, var(--jp-layout-color0, white)));\n",
       "  --sklearn-color-border-box: var(--sg-text-color, var(--theme-code-foreground, var(--jp-content-font-color1, black)));\n",
       "  --sklearn-color-icon: #696969;\n",
       "\n",
       "  @media (prefers-color-scheme: dark) {\n",
       "    /* Redefinition of color scheme for dark theme */\n",
       "    --sklearn-color-text-on-default-background: var(--sg-text-color, var(--theme-code-foreground, var(--jp-content-font-color1, white)));\n",
       "    --sklearn-color-background: var(--sg-background-color, var(--theme-background, var(--jp-layout-color0, #111)));\n",
       "    --sklearn-color-border-box: var(--sg-text-color, var(--theme-code-foreground, var(--jp-content-font-color1, white)));\n",
       "    --sklearn-color-icon: #878787;\n",
       "  }\n",
       "}\n",
       "\n",
       "#sk-container-id-1 {\n",
       "  color: var(--sklearn-color-text);\n",
       "}\n",
       "\n",
       "#sk-container-id-1 pre {\n",
       "  padding: 0;\n",
       "}\n",
       "\n",
       "#sk-container-id-1 input.sk-hidden--visually {\n",
       "  border: 0;\n",
       "  clip: rect(1px 1px 1px 1px);\n",
       "  clip: rect(1px, 1px, 1px, 1px);\n",
       "  height: 1px;\n",
       "  margin: -1px;\n",
       "  overflow: hidden;\n",
       "  padding: 0;\n",
       "  position: absolute;\n",
       "  width: 1px;\n",
       "}\n",
       "\n",
       "#sk-container-id-1 div.sk-dashed-wrapped {\n",
       "  border: 1px dashed var(--sklearn-color-line);\n",
       "  margin: 0 0.4em 0.5em 0.4em;\n",
       "  box-sizing: border-box;\n",
       "  padding-bottom: 0.4em;\n",
       "  background-color: var(--sklearn-color-background);\n",
       "}\n",
       "\n",
       "#sk-container-id-1 div.sk-container {\n",
       "  /* jupyter's `normalize.less` sets `[hidden] { display: none; }`\n",
       "     but bootstrap.min.css set `[hidden] { display: none !important; }`\n",
       "     so we also need the `!important` here to be able to override the\n",
       "     default hidden behavior on the sphinx rendered scikit-learn.org.\n",
       "     See: https://github.com/scikit-learn/scikit-learn/issues/21755 */\n",
       "  display: inline-block !important;\n",
       "  position: relative;\n",
       "}\n",
       "\n",
       "#sk-container-id-1 div.sk-text-repr-fallback {\n",
       "  display: none;\n",
       "}\n",
       "\n",
       "div.sk-parallel-item,\n",
       "div.sk-serial,\n",
       "div.sk-item {\n",
       "  /* draw centered vertical line to link estimators */\n",
       "  background-image: linear-gradient(var(--sklearn-color-text-on-default-background), var(--sklearn-color-text-on-default-background));\n",
       "  background-size: 2px 100%;\n",
       "  background-repeat: no-repeat;\n",
       "  background-position: center center;\n",
       "}\n",
       "\n",
       "/* Parallel-specific style estimator block */\n",
       "\n",
       "#sk-container-id-1 div.sk-parallel-item::after {\n",
       "  content: \"\";\n",
       "  width: 100%;\n",
       "  border-bottom: 2px solid var(--sklearn-color-text-on-default-background);\n",
       "  flex-grow: 1;\n",
       "}\n",
       "\n",
       "#sk-container-id-1 div.sk-parallel {\n",
       "  display: flex;\n",
       "  align-items: stretch;\n",
       "  justify-content: center;\n",
       "  background-color: var(--sklearn-color-background);\n",
       "  position: relative;\n",
       "}\n",
       "\n",
       "#sk-container-id-1 div.sk-parallel-item {\n",
       "  display: flex;\n",
       "  flex-direction: column;\n",
       "}\n",
       "\n",
       "#sk-container-id-1 div.sk-parallel-item:first-child::after {\n",
       "  align-self: flex-end;\n",
       "  width: 50%;\n",
       "}\n",
       "\n",
       "#sk-container-id-1 div.sk-parallel-item:last-child::after {\n",
       "  align-self: flex-start;\n",
       "  width: 50%;\n",
       "}\n",
       "\n",
       "#sk-container-id-1 div.sk-parallel-item:only-child::after {\n",
       "  width: 0;\n",
       "}\n",
       "\n",
       "/* Serial-specific style estimator block */\n",
       "\n",
       "#sk-container-id-1 div.sk-serial {\n",
       "  display: flex;\n",
       "  flex-direction: column;\n",
       "  align-items: center;\n",
       "  background-color: var(--sklearn-color-background);\n",
       "  padding-right: 1em;\n",
       "  padding-left: 1em;\n",
       "}\n",
       "\n",
       "\n",
       "/* Toggleable style: style used for estimator/Pipeline/ColumnTransformer box that is\n",
       "clickable and can be expanded/collapsed.\n",
       "- Pipeline and ColumnTransformer use this feature and define the default style\n",
       "- Estimators will overwrite some part of the style using the `sk-estimator` class\n",
       "*/\n",
       "\n",
       "/* Pipeline and ColumnTransformer style (default) */\n",
       "\n",
       "#sk-container-id-1 div.sk-toggleable {\n",
       "  /* Default theme specific background. It is overwritten whether we have a\n",
       "  specific estimator or a Pipeline/ColumnTransformer */\n",
       "  background-color: var(--sklearn-color-background);\n",
       "}\n",
       "\n",
       "/* Toggleable label */\n",
       "#sk-container-id-1 label.sk-toggleable__label {\n",
       "  cursor: pointer;\n",
       "  display: block;\n",
       "  width: 100%;\n",
       "  margin-bottom: 0;\n",
       "  padding: 0.5em;\n",
       "  box-sizing: border-box;\n",
       "  text-align: center;\n",
       "}\n",
       "\n",
       "#sk-container-id-1 label.sk-toggleable__label-arrow:before {\n",
       "  /* Arrow on the left of the label */\n",
       "  content: \"▸\";\n",
       "  float: left;\n",
       "  margin-right: 0.25em;\n",
       "  color: var(--sklearn-color-icon);\n",
       "}\n",
       "\n",
       "#sk-container-id-1 label.sk-toggleable__label-arrow:hover:before {\n",
       "  color: var(--sklearn-color-text);\n",
       "}\n",
       "\n",
       "/* Toggleable content - dropdown */\n",
       "\n",
       "#sk-container-id-1 div.sk-toggleable__content {\n",
       "  max-height: 0;\n",
       "  max-width: 0;\n",
       "  overflow: hidden;\n",
       "  text-align: left;\n",
       "  /* unfitted */\n",
       "  background-color: var(--sklearn-color-unfitted-level-0);\n",
       "}\n",
       "\n",
       "#sk-container-id-1 div.sk-toggleable__content.fitted {\n",
       "  /* fitted */\n",
       "  background-color: var(--sklearn-color-fitted-level-0);\n",
       "}\n",
       "\n",
       "#sk-container-id-1 div.sk-toggleable__content pre {\n",
       "  margin: 0.2em;\n",
       "  border-radius: 0.25em;\n",
       "  color: var(--sklearn-color-text);\n",
       "  /* unfitted */\n",
       "  background-color: var(--sklearn-color-unfitted-level-0);\n",
       "}\n",
       "\n",
       "#sk-container-id-1 div.sk-toggleable__content.fitted pre {\n",
       "  /* unfitted */\n",
       "  background-color: var(--sklearn-color-fitted-level-0);\n",
       "}\n",
       "\n",
       "#sk-container-id-1 input.sk-toggleable__control:checked~div.sk-toggleable__content {\n",
       "  /* Expand drop-down */\n",
       "  max-height: 200px;\n",
       "  max-width: 100%;\n",
       "  overflow: auto;\n",
       "}\n",
       "\n",
       "#sk-container-id-1 input.sk-toggleable__control:checked~label.sk-toggleable__label-arrow:before {\n",
       "  content: \"▾\";\n",
       "}\n",
       "\n",
       "/* Pipeline/ColumnTransformer-specific style */\n",
       "\n",
       "#sk-container-id-1 div.sk-label input.sk-toggleable__control:checked~label.sk-toggleable__label {\n",
       "  color: var(--sklearn-color-text);\n",
       "  background-color: var(--sklearn-color-unfitted-level-2);\n",
       "}\n",
       "\n",
       "#sk-container-id-1 div.sk-label.fitted input.sk-toggleable__control:checked~label.sk-toggleable__label {\n",
       "  background-color: var(--sklearn-color-fitted-level-2);\n",
       "}\n",
       "\n",
       "/* Estimator-specific style */\n",
       "\n",
       "/* Colorize estimator box */\n",
       "#sk-container-id-1 div.sk-estimator input.sk-toggleable__control:checked~label.sk-toggleable__label {\n",
       "  /* unfitted */\n",
       "  background-color: var(--sklearn-color-unfitted-level-2);\n",
       "}\n",
       "\n",
       "#sk-container-id-1 div.sk-estimator.fitted input.sk-toggleable__control:checked~label.sk-toggleable__label {\n",
       "  /* fitted */\n",
       "  background-color: var(--sklearn-color-fitted-level-2);\n",
       "}\n",
       "\n",
       "#sk-container-id-1 div.sk-label label.sk-toggleable__label,\n",
       "#sk-container-id-1 div.sk-label label {\n",
       "  /* The background is the default theme color */\n",
       "  color: var(--sklearn-color-text-on-default-background);\n",
       "}\n",
       "\n",
       "/* On hover, darken the color of the background */\n",
       "#sk-container-id-1 div.sk-label:hover label.sk-toggleable__label {\n",
       "  color: var(--sklearn-color-text);\n",
       "  background-color: var(--sklearn-color-unfitted-level-2);\n",
       "}\n",
       "\n",
       "/* Label box, darken color on hover, fitted */\n",
       "#sk-container-id-1 div.sk-label.fitted:hover label.sk-toggleable__label.fitted {\n",
       "  color: var(--sklearn-color-text);\n",
       "  background-color: var(--sklearn-color-fitted-level-2);\n",
       "}\n",
       "\n",
       "/* Estimator label */\n",
       "\n",
       "#sk-container-id-1 div.sk-label label {\n",
       "  font-family: monospace;\n",
       "  font-weight: bold;\n",
       "  display: inline-block;\n",
       "  line-height: 1.2em;\n",
       "}\n",
       "\n",
       "#sk-container-id-1 div.sk-label-container {\n",
       "  text-align: center;\n",
       "}\n",
       "\n",
       "/* Estimator-specific */\n",
       "#sk-container-id-1 div.sk-estimator {\n",
       "  font-family: monospace;\n",
       "  border: 1px dotted var(--sklearn-color-border-box);\n",
       "  border-radius: 0.25em;\n",
       "  box-sizing: border-box;\n",
       "  margin-bottom: 0.5em;\n",
       "  /* unfitted */\n",
       "  background-color: var(--sklearn-color-unfitted-level-0);\n",
       "}\n",
       "\n",
       "#sk-container-id-1 div.sk-estimator.fitted {\n",
       "  /* fitted */\n",
       "  background-color: var(--sklearn-color-fitted-level-0);\n",
       "}\n",
       "\n",
       "/* on hover */\n",
       "#sk-container-id-1 div.sk-estimator:hover {\n",
       "  /* unfitted */\n",
       "  background-color: var(--sklearn-color-unfitted-level-2);\n",
       "}\n",
       "\n",
       "#sk-container-id-1 div.sk-estimator.fitted:hover {\n",
       "  /* fitted */\n",
       "  background-color: var(--sklearn-color-fitted-level-2);\n",
       "}\n",
       "\n",
       "/* Specification for estimator info (e.g. \"i\" and \"?\") */\n",
       "\n",
       "/* Common style for \"i\" and \"?\" */\n",
       "\n",
       ".sk-estimator-doc-link,\n",
       "a:link.sk-estimator-doc-link,\n",
       "a:visited.sk-estimator-doc-link {\n",
       "  float: right;\n",
       "  font-size: smaller;\n",
       "  line-height: 1em;\n",
       "  font-family: monospace;\n",
       "  background-color: var(--sklearn-color-background);\n",
       "  border-radius: 1em;\n",
       "  height: 1em;\n",
       "  width: 1em;\n",
       "  text-decoration: none !important;\n",
       "  margin-left: 1ex;\n",
       "  /* unfitted */\n",
       "  border: var(--sklearn-color-unfitted-level-1) 1pt solid;\n",
       "  color: var(--sklearn-color-unfitted-level-1);\n",
       "}\n",
       "\n",
       ".sk-estimator-doc-link.fitted,\n",
       "a:link.sk-estimator-doc-link.fitted,\n",
       "a:visited.sk-estimator-doc-link.fitted {\n",
       "  /* fitted */\n",
       "  border: var(--sklearn-color-fitted-level-1) 1pt solid;\n",
       "  color: var(--sklearn-color-fitted-level-1);\n",
       "}\n",
       "\n",
       "/* On hover */\n",
       "div.sk-estimator:hover .sk-estimator-doc-link:hover,\n",
       ".sk-estimator-doc-link:hover,\n",
       "div.sk-label-container:hover .sk-estimator-doc-link:hover,\n",
       ".sk-estimator-doc-link:hover {\n",
       "  /* unfitted */\n",
       "  background-color: var(--sklearn-color-unfitted-level-3);\n",
       "  color: var(--sklearn-color-background);\n",
       "  text-decoration: none;\n",
       "}\n",
       "\n",
       "div.sk-estimator.fitted:hover .sk-estimator-doc-link.fitted:hover,\n",
       ".sk-estimator-doc-link.fitted:hover,\n",
       "div.sk-label-container:hover .sk-estimator-doc-link.fitted:hover,\n",
       ".sk-estimator-doc-link.fitted:hover {\n",
       "  /* fitted */\n",
       "  background-color: var(--sklearn-color-fitted-level-3);\n",
       "  color: var(--sklearn-color-background);\n",
       "  text-decoration: none;\n",
       "}\n",
       "\n",
       "/* Span, style for the box shown on hovering the info icon */\n",
       ".sk-estimator-doc-link span {\n",
       "  display: none;\n",
       "  z-index: 9999;\n",
       "  position: relative;\n",
       "  font-weight: normal;\n",
       "  right: .2ex;\n",
       "  padding: .5ex;\n",
       "  margin: .5ex;\n",
       "  width: min-content;\n",
       "  min-width: 20ex;\n",
       "  max-width: 50ex;\n",
       "  color: var(--sklearn-color-text);\n",
       "  box-shadow: 2pt 2pt 4pt #999;\n",
       "  /* unfitted */\n",
       "  background: var(--sklearn-color-unfitted-level-0);\n",
       "  border: .5pt solid var(--sklearn-color-unfitted-level-3);\n",
       "}\n",
       "\n",
       ".sk-estimator-doc-link.fitted span {\n",
       "  /* fitted */\n",
       "  background: var(--sklearn-color-fitted-level-0);\n",
       "  border: var(--sklearn-color-fitted-level-3);\n",
       "}\n",
       "\n",
       ".sk-estimator-doc-link:hover span {\n",
       "  display: block;\n",
       "}\n",
       "\n",
       "/* \"?\"-specific style due to the `<a>` HTML tag */\n",
       "\n",
       "#sk-container-id-1 a.estimator_doc_link {\n",
       "  float: right;\n",
       "  font-size: 1rem;\n",
       "  line-height: 1em;\n",
       "  font-family: monospace;\n",
       "  background-color: var(--sklearn-color-background);\n",
       "  border-radius: 1rem;\n",
       "  height: 1rem;\n",
       "  width: 1rem;\n",
       "  text-decoration: none;\n",
       "  /* unfitted */\n",
       "  color: var(--sklearn-color-unfitted-level-1);\n",
       "  border: var(--sklearn-color-unfitted-level-1) 1pt solid;\n",
       "}\n",
       "\n",
       "#sk-container-id-1 a.estimator_doc_link.fitted {\n",
       "  /* fitted */\n",
       "  border: var(--sklearn-color-fitted-level-1) 1pt solid;\n",
       "  color: var(--sklearn-color-fitted-level-1);\n",
       "}\n",
       "\n",
       "/* On hover */\n",
       "#sk-container-id-1 a.estimator_doc_link:hover {\n",
       "  /* unfitted */\n",
       "  background-color: var(--sklearn-color-unfitted-level-3);\n",
       "  color: var(--sklearn-color-background);\n",
       "  text-decoration: none;\n",
       "}\n",
       "\n",
       "#sk-container-id-1 a.estimator_doc_link.fitted:hover {\n",
       "  /* fitted */\n",
       "  background-color: var(--sklearn-color-fitted-level-3);\n",
       "}\n",
       "</style><div id=\"sk-container-id-1\" class=\"sk-top-container\"><div class=\"sk-text-repr-fallback\"><pre>MixtureOfAgents(experiment_name=&#x27;Churn_Prediction_MOA&#x27;,\n",
       "                models=[LogisticRegression(), DecisionTreeClassifier(),\n",
       "                        RandomForestClassifier()],\n",
       "                weights=[1.0, 0.8, 1.2])</pre><b>In a Jupyter environment, please rerun this cell to show the HTML representation or trust the notebook. <br />On GitHub, the HTML representation is unable to render, please try loading this page with nbviewer.org.</b></div><div class=\"sk-container\" hidden><div class=\"sk-item\"><div class=\"sk-estimator fitted sk-toggleable\"><input class=\"sk-toggleable__control sk-hidden--visually\" id=\"sk-estimator-id-1\" type=\"checkbox\" checked><label for=\"sk-estimator-id-1\" class=\"sk-toggleable__label fitted sk-toggleable__label-arrow fitted\">&nbsp;MixtureOfAgents<span class=\"sk-estimator-doc-link fitted\">i<span>Fitted</span></span></label><div class=\"sk-toggleable__content fitted\"><pre>MixtureOfAgents(experiment_name=&#x27;Churn_Prediction_MOA&#x27;,\n",
       "                models=[LogisticRegression(), DecisionTreeClassifier(),\n",
       "                        RandomForestClassifier()],\n",
       "                weights=[1.0, 0.8, 1.2])</pre></div> </div></div></div></div>"
      ]
     },
     "execution_count": 28,
     "metadata": {},
     "output_type": "execute_result"
    }
   ],
   "execution_count": 28
  },
  {
   "metadata": {
    "ExecuteTime": {
     "end_time": "2024-08-10T14:49:39.814663Z",
     "start_time": "2024-08-10T14:49:39.765977Z"
    }
   },
   "cell_type": "code",
   "source": [
    "# Evaluar en el conjunto de validación\n",
    "val_evaluation = moa.evaluate(X_val, y_val)\n",
    "print(\"Evaluación en validación:\", val_evaluation)"
   ],
   "id": "c6e4429aeecf4163",
   "outputs": [
    {
     "name": "stderr",
     "output_type": "stream",
     "text": [
      "2024-08-10 16:49:39,766 - __main__ - INFO - Llamando a la función: evaluate\n",
      "2024-08-10 16:49:39,767 - __main__ - INFO - Llamando a la función: predict\n",
      "2024-08-10 16:49:39,767 - __main__ - INFO - Llamando a la función: predict_proba\n",
      "2024-08-10 16:49:39,794 - __main__ - INFO - Función predict_proba completada\n",
      "2024-08-10 16:49:39,795 - __main__ - INFO - Función predict_proba ejecutada en 0.03 segundos\n",
      "2024-08-10 16:49:39,795 - __main__ - INFO - Función predict completada\n",
      "2024-08-10 16:49:39,796 - __main__ - INFO - Función predict ejecutada en 0.03 segundos\n",
      "2024-08-10 16:49:39,812 - __main__ - INFO - Función evaluate completada\n",
      "2024-08-10 16:49:39,813 - __main__ - INFO - Función evaluate ejecutada en 0.05 segundos\n"
     ]
    },
    {
     "name": "stdout",
     "output_type": "stream",
     "text": [
      "Evaluación en validación: {'accuracy': 0.8455, 'precision': np.float64(0.8320701062399641), 'recall': np.float64(0.8455), 'f1': np.float64(0.8299176877890505)}\n"
     ]
    }
   ],
   "execution_count": 29
  },
  {
   "metadata": {
    "ExecuteTime": {
     "end_time": "2024-08-10T14:49:42.847604Z",
     "start_time": "2024-08-10T14:49:42.794312Z"
    }
   },
   "cell_type": "code",
   "source": [
    "# Evaluar en el conjunto de prueba\n",
    "test_evaluation = moa.evaluate(X_test, y_test)\n",
    "print(\"Evaluación en prueba:\", test_evaluation)"
   ],
   "id": "5c8984ad974ac20",
   "outputs": [
    {
     "name": "stderr",
     "output_type": "stream",
     "text": [
      "2024-08-10 16:49:42,795 - __main__ - INFO - Llamando a la función: evaluate\n",
      "2024-08-10 16:49:42,796 - __main__ - INFO - Llamando a la función: predict\n",
      "2024-08-10 16:49:42,797 - __main__ - INFO - Llamando a la función: predict_proba\n",
      "2024-08-10 16:49:42,820 - __main__ - INFO - Función predict_proba completada\n",
      "2024-08-10 16:49:42,820 - __main__ - INFO - Función predict_proba ejecutada en 0.02 segundos\n",
      "2024-08-10 16:49:42,821 - __main__ - INFO - Función predict completada\n",
      "2024-08-10 16:49:42,821 - __main__ - INFO - Función predict ejecutada en 0.03 segundos\n",
      "2024-08-10 16:49:42,845 - __main__ - INFO - Función evaluate completada\n",
      "2024-08-10 16:49:42,846 - __main__ - INFO - Función evaluate ejecutada en 0.05 segundos\n"
     ]
    },
    {
     "name": "stdout",
     "output_type": "stream",
     "text": [
      "Evaluación en prueba: {'accuracy': 0.8475, 'precision': np.float64(0.8346848383307078), 'recall': np.float64(0.8475), 'f1': np.float64(0.8338220851980025)}\n"
     ]
    }
   ],
   "execution_count": 30
  },
  {
   "metadata": {
    "ExecuteTime": {
     "end_time": "2024-08-10T14:49:47.581368Z",
     "start_time": "2024-08-10T14:49:47.188680Z"
    }
   },
   "cell_type": "code",
   "source": [
    "# Guardar el modelo\n",
    "\n",
    "mlflow.sklearn.save_model(moa, \"../models/moa_model\")"
   ],
   "id": "d6dd6e3130fc0f95",
   "outputs": [
    {
     "ename": "MlflowException",
     "evalue": "Path '../models/moa_model' already exists and is not empty",
     "output_type": "error",
     "traceback": [
      "\u001B[0;31m---------------------------------------------------------------------------\u001B[0m",
      "\u001B[0;31mMlflowException\u001B[0m                           Traceback (most recent call last)",
      "Cell \u001B[0;32mIn[31], line 3\u001B[0m\n\u001B[1;32m      1\u001B[0m \u001B[38;5;66;03m# Guardar el modelo\u001B[39;00m\n\u001B[0;32m----> 3\u001B[0m \u001B[43mmlflow\u001B[49m\u001B[38;5;241;43m.\u001B[39;49m\u001B[43msklearn\u001B[49m\u001B[38;5;241;43m.\u001B[39;49m\u001B[43msave_model\u001B[49m\u001B[43m(\u001B[49m\u001B[43mmoa\u001B[49m\u001B[43m,\u001B[49m\u001B[43m \u001B[49m\u001B[38;5;124;43m\"\u001B[39;49m\u001B[38;5;124;43m../models/moa_model\u001B[39;49m\u001B[38;5;124;43m\"\u001B[39;49m\u001B[43m)\u001B[49m\n",
      "File \u001B[0;32m~/Library/Caches/pypoetry/virtualenvs/moa-mixtureofagents-agents-project-1qo2r6p6-py3.12/lib/python3.12/site-packages/mlflow/sklearn/__init__.py:244\u001B[0m, in \u001B[0;36msave_model\u001B[0;34m(sk_model, path, conda_env, code_paths, mlflow_model, serialization_format, signature, input_example, pip_requirements, extra_pip_requirements, pyfunc_predict_fn, metadata)\u001B[0m\n\u001B[1;32m    235\u001B[0m \u001B[38;5;28;01mif\u001B[39;00m serialization_format \u001B[38;5;129;01mnot\u001B[39;00m \u001B[38;5;129;01min\u001B[39;00m SUPPORTED_SERIALIZATION_FORMATS:\n\u001B[1;32m    236\u001B[0m     \u001B[38;5;28;01mraise\u001B[39;00m MlflowException(\n\u001B[1;32m    237\u001B[0m         message\u001B[38;5;241m=\u001B[39m(\n\u001B[1;32m    238\u001B[0m             \u001B[38;5;124mf\u001B[39m\u001B[38;5;124m\"\u001B[39m\u001B[38;5;124mUnrecognized serialization format: \u001B[39m\u001B[38;5;132;01m{\u001B[39;00mserialization_format\u001B[38;5;132;01m}\u001B[39;00m\u001B[38;5;124m. Please specify one\u001B[39m\u001B[38;5;124m\"\u001B[39m\n\u001B[0;32m   (...)\u001B[0m\n\u001B[1;32m    241\u001B[0m         error_code\u001B[38;5;241m=\u001B[39mINVALID_PARAMETER_VALUE,\n\u001B[1;32m    242\u001B[0m     )\n\u001B[0;32m--> 244\u001B[0m \u001B[43m_validate_and_prepare_target_save_path\u001B[49m\u001B[43m(\u001B[49m\u001B[43mpath\u001B[49m\u001B[43m)\u001B[49m\n\u001B[1;32m    245\u001B[0m code_path_subdir \u001B[38;5;241m=\u001B[39m _validate_and_copy_code_paths(code_paths, path)\n\u001B[1;32m    247\u001B[0m \u001B[38;5;28;01mif\u001B[39;00m mlflow_model \u001B[38;5;129;01mis\u001B[39;00m \u001B[38;5;28;01mNone\u001B[39;00m:\n",
      "File \u001B[0;32m~/Library/Caches/pypoetry/virtualenvs/moa-mixtureofagents-agents-project-1qo2r6p6-py3.12/lib/python3.12/site-packages/mlflow/utils/model_utils.py:267\u001B[0m, in \u001B[0;36m_validate_and_prepare_target_save_path\u001B[0;34m(path)\u001B[0m\n\u001B[1;32m    265\u001B[0m \u001B[38;5;28;01mdef\u001B[39;00m \u001B[38;5;21m_validate_and_prepare_target_save_path\u001B[39m(path):\n\u001B[1;32m    266\u001B[0m     \u001B[38;5;28;01mif\u001B[39;00m os\u001B[38;5;241m.\u001B[39mpath\u001B[38;5;241m.\u001B[39mexists(path) \u001B[38;5;129;01mand\u001B[39;00m \u001B[38;5;28many\u001B[39m(os\u001B[38;5;241m.\u001B[39mscandir(path)):\n\u001B[0;32m--> 267\u001B[0m         \u001B[38;5;28;01mraise\u001B[39;00m MlflowException(\n\u001B[1;32m    268\u001B[0m             message\u001B[38;5;241m=\u001B[39m\u001B[38;5;124mf\u001B[39m\u001B[38;5;124m\"\u001B[39m\u001B[38;5;124mPath \u001B[39m\u001B[38;5;124m'\u001B[39m\u001B[38;5;132;01m{\u001B[39;00mpath\u001B[38;5;132;01m}\u001B[39;00m\u001B[38;5;124m'\u001B[39m\u001B[38;5;124m already exists and is not empty\u001B[39m\u001B[38;5;124m\"\u001B[39m,\n\u001B[1;32m    269\u001B[0m             error_code\u001B[38;5;241m=\u001B[39mRESOURCE_ALREADY_EXISTS,\n\u001B[1;32m    270\u001B[0m         )\n\u001B[1;32m    272\u001B[0m     os\u001B[38;5;241m.\u001B[39mmakedirs(path, exist_ok\u001B[38;5;241m=\u001B[39m\u001B[38;5;28;01mTrue\u001B[39;00m)\n",
      "\u001B[0;31mMlflowException\u001B[0m: Path '../models/moa_model' already exists and is not empty"
     ]
    }
   ],
   "execution_count": 31
  },
  {
   "metadata": {},
   "cell_type": "markdown",
   "source": [
    "graph TD\n",
    "    A[Datos de Entrada] --> B{Mixture of Agents}\n",
    "    B --> |Distribuye datos| C[Modelo 1]\n",
    "    B --> |Distribuye datos| D[Modelo 2]\n",
    "    B --> |Distribuye datos| E[Modelo 3]\n",
    "    C --> |Predicción 1| F{Agregador}\n",
    "    D --> |Predicción 2| F\n",
    "    E --> |Predicción 3| F\n",
    "    F --> |Aplica pesos| G[Predicción Final]\n",
    "    H[Pesos de Modelos] --> F"
   ],
   "id": "671a8d5ff4156346"
  },
  {
   "metadata": {},
   "cell_type": "markdown",
   "source": [
    "Explicación del diagrama:\n",
    "\n",
    "Datos de Entrada: El proceso comienza con los datos de entrada, que son las características de los clientes bancarios en nuestro caso.\n",
    "Mixture of Agents: Este es el núcleo de nuestro sistema. Recibe los datos de entrada y los distribuye a los diferentes modelos.\n",
    "Modelos Individuales (Modelo 1, Modelo 2, Modelo 3): Cada uno de estos representa un modelo de aprendizaje automático diferente (por ejemplo, Regresión Logística, Árbol de Decisión, Bosque Aleatorio). Cada modelo procesa los datos y genera su propia predicción.\n",
    "Predicciones Individuales: Cada modelo produce su propia predicción basada en los datos de entrada.\n",
    "Agregador: Este componente recibe las predicciones de todos los modelos individuales.\n",
    "Pesos de Modelos: Cada modelo tiene un peso asociado que determina su influencia en la predicción final. Estos pesos se aplican en el agregador.\n",
    "Predicción Final: El agregador combina las predicciones individuales, aplicando los pesos correspondientes, para producir una predicción final.\n",
    "\n",
    "El proceso funciona de la siguiente manera:\n",
    "\n",
    "Los datos de entrada se pasan al MOA.\n",
    "El MOA distribuye estos datos a cada uno de los modelos individuales.\n",
    "Cada modelo procesa los datos y genera su propia predicción.\n",
    "Estas predicciones individuales se envían al agregador.\n",
    "El agregador aplica los pesos a cada predicción.\n",
    "Se combinan las predicciones ponderadas para producir una predicción final.\n",
    "\n",
    "La ventaja de este enfoque es que aprovecha las fortalezas de múltiples modelos. Algunos modelos pueden ser mejores en ciertos aspectos de la predicción, mientras que otros pueden capturar diferentes patrones en los datos. Al combinar sus predicciones, el MOA puede producir resultados más robustos y precisos que cualquier modelo individual.\n",
    "Además, al ajustar los pesos, puedes dar más importancia a los modelos que funcionan mejor para tu conjunto de datos específico, mejorando aún más el rendimiento general del sistema."
   ],
   "id": "8520f3e9754da3c5"
  },
  {
   "metadata": {
    "ExecuteTime": {
     "end_time": "2024-08-10T14:49:50.312854Z",
     "start_time": "2024-08-10T14:49:50.308007Z"
    }
   },
   "cell_type": "code",
   "source": [
    "import pandas as pd\n",
    "import mlflow\n",
    "import mlflow.pyfunc\n",
    "import joblib\n",
    "import numpy as np\n",
    "\n",
    "class Prediction:\n",
    "    def __init__(self, model_path, data_prep_path):\n",
    "        self.model = self.load_model(model_path)\n",
    "        self.data_prep = self.load_data_prep(data_prep_path)\n",
    "        self.expected_columns = ['CreditScore', 'Geography', 'Gender', 'Age', 'Tenure', 'Balance', \n",
    "                                 'NumOfProducts', 'HasCrCard', 'IsActiveMember', 'EstimatedSalary',\n",
    "                                 'HasBalance', 'IsOlderThan40']\n",
    "\n",
    "    @staticmethod\n",
    "    def load_model(model_path):\n",
    "        return mlflow.pyfunc.load_model(model_path)\n",
    "\n",
    "    @staticmethod\n",
    "    def load_data_prep(data_prep_path):\n",
    "        return joblib.load(data_prep_path)\n",
    "\n",
    "    def prepare_data(self, data):\n",
    "        \"\"\"Prepara los datos para la predicción.\"\"\"\n",
    "        data_prep_instance = self.data_prep.__class__(data)\n",
    "        prepared_data = data_prep_instance.prepare_data().get_prepared_data()\n",
    "        \n",
    "        # Asegurarse de que todas las columnas esperadas estén presentes\n",
    "        for col in self.expected_columns:\n",
    "            if col not in prepared_data.columns:\n",
    "                if col == 'HasBalance':\n",
    "                    prepared_data[col] = (prepared_data['Balance'] > 0).astype(int)\n",
    "                elif col == 'IsOlderThan40':\n",
    "                    prepared_data[col] = (prepared_data['Age'] > 40).astype(int)\n",
    "                else:\n",
    "                    raise ValueError(f\"Columna esperada '{col}' no está presente en los datos preparados\")\n",
    "        \n",
    "        return prepared_data[self.expected_columns]\n",
    "\n",
    "    def predict(self, data):\n",
    "        \"\"\"Realiza predicciones usando el modelo MOA.\"\"\"\n",
    "        prepared_data = self.prepare_data(data)\n",
    "        return self.model.predict(prepared_data)\n",
    "\n",
    "    def predict_proba(self, data):\n",
    "        \"\"\"Realiza predicciones de probabilidad usando el modelo MOA.\"\"\"\n",
    "        prepared_data = self.prepare_data(data)\n",
    "        proba = self.model.predict(prepared_data)\n",
    "        # Asegurarse de que proba sea un array 2D\n",
    "        if proba.ndim == 1:\n",
    "            proba = np.column_stack((1 - proba, proba))\n",
    "        return proba\n",
    "\n",
    "    def predict_and_explain(self, data):\n",
    "        \"\"\"Realiza predicciones y proporciona explicaciones básicas.\"\"\"\n",
    "        predictions = self.predict(data)\n",
    "        probabilities = self.predict_proba(data)\n",
    "        \n",
    "        results = []\n",
    "        for i, pred in enumerate(predictions):\n",
    "            explanation = f\"Predicción: {'Abandono' if pred == 1 else 'No Abandono'}\"\n",
    "            explanation += f\"\\nProbabilidad de Abandono: {probabilities[i][1]:.2f}\"\n",
    "            explanation += f\"\\nProbabilidad de No Abandono: {probabilities[i][0]:.2f}\"\n",
    "            results.append(explanation)\n",
    "        \n",
    "        return results"
   ],
   "id": "3b808c81b4eaaeda",
   "outputs": [],
   "execution_count": 32
  },
  {
   "metadata": {
    "ExecuteTime": {
     "end_time": "2024-08-10T14:49:51.504659Z",
     "start_time": "2024-08-10T14:49:51.451879Z"
    }
   },
   "cell_type": "code",
   "source": [
    "# Crear una instancia de la clase Prediction\n",
    "predictor = Prediction(\"../models/moa_model\", \"../models/data_preparation.pkl\")"
   ],
   "id": "884fbbc052930139",
   "outputs": [
    {
     "name": "stderr",
     "output_type": "stream",
     "text": [
      "2024/08/10 16:49:51 WARNING mlflow.utils.requirements_utils: Detected one or more mismatches between the model's dependencies and the current Python environment:\n",
      " - numpy (current: 2.0.1, required: numpy==1.26.4)\n",
      "To fix the mismatches, call `mlflow.pyfunc.get_model_dependencies(model_uri)` to fetch the model's environment and install dependencies using the resulting environment file.\n"
     ]
    }
   ],
   "execution_count": 33
  },
  {
   "metadata": {
    "ExecuteTime": {
     "end_time": "2024-08-10T14:49:58.337068Z",
     "start_time": "2024-08-10T14:49:58.334216Z"
    }
   },
   "cell_type": "code",
   "source": [
    "# Supongamos que tenemos un nuevo cliente con las siguientes características:\n",
    "new_customer = {\n",
    "    'CreditScore': 600,\n",
    "    'Geography': 'France',\n",
    "    'Gender': 'Female',\n",
    "    'Age': 35,\n",
    "    'Tenure': 5,\n",
    "    'Balance': 60000,\n",
    "    'NumOfProducts': 2,\n",
    "    'HasCrCard': 1,\n",
    "    'IsActiveMember': 1,\n",
    "    'EstimatedSalary': 50000\n",
    "}"
   ],
   "id": "6d8adff30dd8d244",
   "outputs": [],
   "execution_count": 34
  },
  {
   "metadata": {
    "ExecuteTime": {
     "end_time": "2024-08-10T14:49:59.178855Z",
     "start_time": "2024-08-10T14:49:59.176599Z"
    }
   },
   "cell_type": "code",
   "source": [
    "# Convertir el diccionario en un DataFrame\n",
    "new_customer_df = pd.DataFrame([new_customer])"
   ],
   "id": "702203143136cfe4",
   "outputs": [],
   "execution_count": 35
  },
  {
   "metadata": {
    "ExecuteTime": {
     "end_time": "2024-08-10T14:50:00.826377Z",
     "start_time": "2024-08-10T14:50:00.780396Z"
    }
   },
   "cell_type": "code",
   "source": [
    "# Realizar la predicción y obtener la explicación\n",
    "explanation = predictor.predict_and_explain(new_customer_df)[0]\n",
    "\n",
    "print(\"Explicación:\")\n",
    "print(explanation)"
   ],
   "id": "713595559702d214",
   "outputs": [
    {
     "name": "stderr",
     "output_type": "stream",
     "text": [
      "2024-08-10 16:50:00,781 - __main__ - INFO - Llamando a la función: prepare_data\n",
      "2024-08-10 16:50:00,782 - __main__ - INFO - Llamando a la función: remove_irrelevant_columns\n",
      "2024-08-10 16:50:00,783 - __main__ - INFO - Función remove_irrelevant_columns completada\n",
      "2024-08-10 16:50:00,783 - __main__ - INFO - Función remove_irrelevant_columns ejecutada en 0.00 segundos\n",
      "2024-08-10 16:50:00,783 - __main__ - INFO - Llamando a la función: handle_missing_values\n",
      "2024-08-10 16:50:00,787 - __main__ - INFO - Función handle_missing_values completada\n",
      "2024-08-10 16:50:00,787 - __main__ - INFO - Función handle_missing_values ejecutada en 0.00 segundos\n",
      "2024-08-10 16:50:00,787 - __main__ - INFO - Llamando a la función: encode_categorical_variables\n",
      "2024-08-10 16:50:00,788 - __main__ - INFO - Función encode_categorical_variables completada\n",
      "2024-08-10 16:50:00,788 - __main__ - INFO - Función encode_categorical_variables ejecutada en 0.00 segundos\n",
      "2024-08-10 16:50:00,789 - __main__ - INFO - Llamando a la función: normalize_numeric_features\n",
      "2024-08-10 16:50:00,791 - __main__ - INFO - Función normalize_numeric_features completada\n",
      "2024-08-10 16:50:00,791 - __main__ - INFO - Función normalize_numeric_features ejecutada en 0.00 segundos\n",
      "2024-08-10 16:50:00,792 - __main__ - INFO - Llamando a la función: create_binary_flags\n",
      "2024-08-10 16:50:00,792 - __main__ - INFO - Función create_binary_flags completada\n",
      "2024-08-10 16:50:00,793 - __main__ - INFO - Función create_binary_flags ejecutada en 0.00 segundos\n",
      "2024-08-10 16:50:00,793 - __main__ - INFO - Función prepare_data completada\n",
      "2024-08-10 16:50:00,793 - __main__ - INFO - Función prepare_data ejecutada en 0.01 segundos\n",
      "2024-08-10 16:50:00,793 - __main__ - INFO - Llamando a la función: get_prepared_data\n",
      "2024-08-10 16:50:00,794 - __main__ - INFO - Función get_prepared_data completada\n",
      "2024-08-10 16:50:00,794 - __main__ - INFO - Función get_prepared_data ejecutada en 0.00 segundos\n",
      "2024-08-10 16:50:00,795 - __main__ - INFO - Llamando a la función: predict\n",
      "2024-08-10 16:50:00,795 - __main__ - INFO - Llamando a la función: predict_proba\n",
      "2024-08-10 16:50:00,807 - __main__ - INFO - Función predict_proba completada\n",
      "2024-08-10 16:50:00,808 - __main__ - INFO - Función predict_proba ejecutada en 0.01 segundos\n",
      "2024-08-10 16:50:00,808 - __main__ - INFO - Función predict completada\n",
      "2024-08-10 16:50:00,808 - __main__ - INFO - Función predict ejecutada en 0.01 segundos\n",
      "2024-08-10 16:50:00,808 - __main__ - INFO - Llamando a la función: prepare_data\n",
      "2024-08-10 16:50:00,809 - __main__ - INFO - Llamando a la función: remove_irrelevant_columns\n",
      "2024-08-10 16:50:00,809 - __main__ - INFO - Función remove_irrelevant_columns completada\n",
      "2024-08-10 16:50:00,809 - __main__ - INFO - Función remove_irrelevant_columns ejecutada en 0.00 segundos\n",
      "2024-08-10 16:50:00,810 - __main__ - INFO - Llamando a la función: handle_missing_values\n",
      "2024-08-10 16:50:00,813 - __main__ - INFO - Función handle_missing_values completada\n",
      "2024-08-10 16:50:00,813 - __main__ - INFO - Función handle_missing_values ejecutada en 0.00 segundos\n",
      "2024-08-10 16:50:00,814 - __main__ - INFO - Llamando a la función: encode_categorical_variables\n",
      "2024-08-10 16:50:00,814 - __main__ - INFO - Función encode_categorical_variables completada\n",
      "2024-08-10 16:50:00,814 - __main__ - INFO - Función encode_categorical_variables ejecutada en 0.00 segundos\n",
      "2024-08-10 16:50:00,814 - __main__ - INFO - Llamando a la función: normalize_numeric_features\n",
      "2024-08-10 16:50:00,816 - __main__ - INFO - Función normalize_numeric_features completada\n",
      "2024-08-10 16:50:00,816 - __main__ - INFO - Función normalize_numeric_features ejecutada en 0.00 segundos\n",
      "2024-08-10 16:50:00,817 - __main__ - INFO - Llamando a la función: create_binary_flags\n",
      "2024-08-10 16:50:00,817 - __main__ - INFO - Función create_binary_flags completada\n",
      "2024-08-10 16:50:00,818 - __main__ - INFO - Función create_binary_flags ejecutada en 0.00 segundos\n",
      "2024-08-10 16:50:00,818 - __main__ - INFO - Función prepare_data completada\n",
      "2024-08-10 16:50:00,818 - __main__ - INFO - Función prepare_data ejecutada en 0.01 segundos\n",
      "2024-08-10 16:50:00,818 - __main__ - INFO - Llamando a la función: get_prepared_data\n",
      "2024-08-10 16:50:00,818 - __main__ - INFO - Función get_prepared_data completada\n",
      "2024-08-10 16:50:00,819 - __main__ - INFO - Función get_prepared_data ejecutada en 0.00 segundos\n",
      "2024-08-10 16:50:00,819 - __main__ - INFO - Llamando a la función: predict\n",
      "2024-08-10 16:50:00,820 - __main__ - INFO - Llamando a la función: predict_proba\n",
      "2024-08-10 16:50:00,823 - __main__ - INFO - Función predict_proba completada\n",
      "2024-08-10 16:50:00,824 - __main__ - INFO - Función predict_proba ejecutada en 0.00 segundos\n",
      "2024-08-10 16:50:00,824 - __main__ - INFO - Función predict completada\n",
      "2024-08-10 16:50:00,824 - __main__ - INFO - Función predict ejecutada en 0.00 segundos\n"
     ]
    },
    {
     "name": "stdout",
     "output_type": "stream",
     "text": [
      "Explicación:\n",
      "Predicción: No Abandono\n",
      "Probabilidad de Abandono: 0.00\n",
      "Probabilidad de No Abandono: 1.00\n"
     ]
    }
   ],
   "execution_count": 36
  },
  {
   "metadata": {
    "ExecuteTime": {
     "end_time": "2024-08-10T14:50:04.863776Z",
     "start_time": "2024-08-10T14:50:02.851525Z"
    }
   },
   "cell_type": "code",
   "source": [
    "import os\n",
    "from dotenv import load_dotenv\n",
    "from together import Together\n",
    "\n",
    "class TogetherAIIntegration:\n",
    "    def __init__(self):\n",
    "        load_dotenv()\n",
    "        self.client = Together(api_key=os.getenv(\"TOGETHER_API_KEY\"))\n",
    "        self.models = {\n",
    "            \"feature_generation\": \"togethercomputer/llama-2-70b-chat\",\n",
    "            \"result_interpretation\": \"togethercomputer/llama-2-70b-chat\"\n",
    "        }\n",
    "\n",
    "    def generate_features(self, data):\n",
    "        \"\"\"Genera nuevas características usando LLM.\"\"\"\n",
    "        prompt = f\"Given the following customer data, suggest 3 new relevant features:\\n{data.to_dict()}\"\n",
    "        response = self.client.chat.completions.create(\n",
    "            model=self.models[\"feature_generation\"],\n",
    "            messages=[{\"role\": \"user\", \"content\": prompt}],\n",
    "            max_tokens=200\n",
    "        )\n",
    "        # Aquí procesarías la respuesta para extraer las nuevas características\n",
    "        return response.choices[0].message.content\n",
    "\n",
    "    def interpret_results(self, prediction, probabilities, customer_data):\n",
    "        \"\"\"Interpreta los resultados de la predicción usando LLM.\"\"\"\n",
    "        prompt = f\"\"\"\n",
    "        Given the following prediction and customer data, provide a detailed explanation:\n",
    "        Prediction: {'Churn' if prediction == 1 else 'No Churn'}\n",
    "        Churn Probability: {probabilities[1]:.2f}\n",
    "        Customer Data: {customer_data.to_dict()}\n",
    "        \"\"\"\n",
    "        response = self.client.chat.completions.create(\n",
    "            model=self.models[\"result_interpretation\"],\n",
    "            messages=[{\"role\": \"user\", \"content\": prompt}],\n",
    "            max_tokens=300\n",
    "        )\n",
    "        return response.choices[0].message.content"
   ],
   "id": "7d34f6ea7346522",
   "outputs": [],
   "execution_count": 37
  },
  {
   "metadata": {
    "ExecuteTime": {
     "end_time": "2024-08-10T14:50:05.482224Z",
     "start_time": "2024-08-10T14:50:05.479108Z"
    }
   },
   "cell_type": "code",
   "source": [
    "# Ejemplo de uso\n",
    "together_ai = TogetherAIIntegration()"
   ],
   "id": "ba17e9f12794477e",
   "outputs": [],
   "execution_count": 38
  },
  {
   "metadata": {
    "ExecuteTime": {
     "end_time": "2024-08-10T14:50:05.990133Z",
     "start_time": "2024-08-10T14:50:05.987302Z"
    }
   },
   "cell_type": "code",
   "source": [
    "# Dentro de tu flujo de trabajo existente:\n",
    "class EnhancedPrediction(Prediction):\n",
    "    def __init__(self, model_path, data_prep_path):\n",
    "        super().__init__(model_path, data_prep_path)\n",
    "        self.together_ai = TogetherAIIntegration()\n",
    "\n",
    "    def predict_and_explain(self, data):\n",
    "        predictions = self.predict(data)\n",
    "        probabilities = self.predict_proba(data)\n",
    "        \n",
    "        results = []\n",
    "        for i, pred in enumerate(predictions):\n",
    "            basic_explanation = f\"Predicción: {'Abandono' if pred == 1 else 'No Abandono'}\"\n",
    "            basic_explanation += f\"\\nProbabilidad de Abandono: {probabilities[i][1]:.2f}\"\n",
    "            basic_explanation += f\"\\nProbabilidad de No Abandono: {probabilities[i][0]:.2f}\"\n",
    "            \n",
    "            # Generar explicación detallada con LLM\n",
    "            detailed_explanation = self.together_ai.interpret_results(pred, probabilities[i], data.iloc[i])\n",
    "            \n",
    "            results.append(f\"{basic_explanation}\\n\\nExplicación detallada:\\n{detailed_explanation}\")\n",
    "        \n",
    "        return results"
   ],
   "id": "6e1cf6e59202291c",
   "outputs": [],
   "execution_count": 39
  },
  {
   "metadata": {
    "ExecuteTime": {
     "end_time": "2024-08-10T14:50:12.987509Z",
     "start_time": "2024-08-10T14:50:06.971767Z"
    }
   },
   "cell_type": "code",
   "source": [
    "# Uso\n",
    "enhanced_predictor = EnhancedPrediction(\"../models/moa_model\", \"../models/data_preparation.pkl\")\n",
    "explanation = enhanced_predictor.predict_and_explain(new_customer_df)[0]\n",
    "print(explanation)"
   ],
   "id": "a1d924a98b7cc4d6",
   "outputs": [
    {
     "name": "stderr",
     "output_type": "stream",
     "text": [
      "2024/08/10 16:50:06 WARNING mlflow.utils.requirements_utils: Detected one or more mismatches between the model's dependencies and the current Python environment:\n",
      " - numpy (current: 2.0.1, required: numpy==1.26.4)\n",
      "To fix the mismatches, call `mlflow.pyfunc.get_model_dependencies(model_uri)` to fetch the model's environment and install dependencies using the resulting environment file.\n",
      "2024-08-10 16:50:07,026 - __main__ - INFO - Llamando a la función: prepare_data\n",
      "2024-08-10 16:50:07,027 - __main__ - INFO - Llamando a la función: remove_irrelevant_columns\n",
      "2024-08-10 16:50:07,027 - __main__ - INFO - Función remove_irrelevant_columns completada\n",
      "2024-08-10 16:50:07,027 - __main__ - INFO - Función remove_irrelevant_columns ejecutada en 0.00 segundos\n",
      "2024-08-10 16:50:07,028 - __main__ - INFO - Llamando a la función: handle_missing_values\n",
      "2024-08-10 16:50:07,031 - __main__ - INFO - Función handle_missing_values completada\n",
      "2024-08-10 16:50:07,032 - __main__ - INFO - Función handle_missing_values ejecutada en 0.00 segundos\n",
      "2024-08-10 16:50:07,032 - __main__ - INFO - Llamando a la función: encode_categorical_variables\n",
      "2024-08-10 16:50:07,033 - __main__ - INFO - Función encode_categorical_variables completada\n",
      "2024-08-10 16:50:07,033 - __main__ - INFO - Función encode_categorical_variables ejecutada en 0.00 segundos\n",
      "2024-08-10 16:50:07,033 - __main__ - INFO - Llamando a la función: normalize_numeric_features\n",
      "2024-08-10 16:50:07,035 - __main__ - INFO - Función normalize_numeric_features completada\n",
      "2024-08-10 16:50:07,035 - __main__ - INFO - Función normalize_numeric_features ejecutada en 0.00 segundos\n",
      "2024-08-10 16:50:07,036 - __main__ - INFO - Llamando a la función: create_binary_flags\n",
      "2024-08-10 16:50:07,036 - __main__ - INFO - Función create_binary_flags completada\n",
      "2024-08-10 16:50:07,036 - __main__ - INFO - Función create_binary_flags ejecutada en 0.00 segundos\n",
      "2024-08-10 16:50:07,037 - __main__ - INFO - Función prepare_data completada\n",
      "2024-08-10 16:50:07,037 - __main__ - INFO - Función prepare_data ejecutada en 0.01 segundos\n",
      "2024-08-10 16:50:07,037 - __main__ - INFO - Llamando a la función: get_prepared_data\n",
      "2024-08-10 16:50:07,037 - __main__ - INFO - Función get_prepared_data completada\n",
      "2024-08-10 16:50:07,038 - __main__ - INFO - Función get_prepared_data ejecutada en 0.00 segundos\n",
      "2024-08-10 16:50:07,038 - __main__ - INFO - Llamando a la función: predict\n",
      "2024-08-10 16:50:07,038 - __main__ - INFO - Llamando a la función: predict_proba\n",
      "2024-08-10 16:50:07,043 - __main__ - INFO - Función predict_proba completada\n",
      "2024-08-10 16:50:07,043 - __main__ - INFO - Función predict_proba ejecutada en 0.00 segundos\n",
      "2024-08-10 16:50:07,044 - __main__ - INFO - Función predict completada\n",
      "2024-08-10 16:50:07,044 - __main__ - INFO - Función predict ejecutada en 0.01 segundos\n",
      "2024-08-10 16:50:07,044 - __main__ - INFO - Llamando a la función: prepare_data\n",
      "2024-08-10 16:50:07,044 - __main__ - INFO - Llamando a la función: remove_irrelevant_columns\n",
      "2024-08-10 16:50:07,045 - __main__ - INFO - Función remove_irrelevant_columns completada\n",
      "2024-08-10 16:50:07,045 - __main__ - INFO - Función remove_irrelevant_columns ejecutada en 0.00 segundos\n",
      "2024-08-10 16:50:07,045 - __main__ - INFO - Llamando a la función: handle_missing_values\n",
      "2024-08-10 16:50:07,048 - __main__ - INFO - Función handle_missing_values completada\n",
      "2024-08-10 16:50:07,048 - __main__ - INFO - Función handle_missing_values ejecutada en 0.00 segundos\n",
      "2024-08-10 16:50:07,049 - __main__ - INFO - Llamando a la función: encode_categorical_variables\n",
      "2024-08-10 16:50:07,049 - __main__ - INFO - Función encode_categorical_variables completada\n",
      "2024-08-10 16:50:07,049 - __main__ - INFO - Función encode_categorical_variables ejecutada en 0.00 segundos\n",
      "2024-08-10 16:50:07,050 - __main__ - INFO - Llamando a la función: normalize_numeric_features\n",
      "2024-08-10 16:50:07,051 - __main__ - INFO - Función normalize_numeric_features completada\n",
      "2024-08-10 16:50:07,051 - __main__ - INFO - Función normalize_numeric_features ejecutada en 0.00 segundos\n",
      "2024-08-10 16:50:07,052 - __main__ - INFO - Llamando a la función: create_binary_flags\n",
      "2024-08-10 16:50:07,052 - __main__ - INFO - Función create_binary_flags completada\n",
      "2024-08-10 16:50:07,053 - __main__ - INFO - Función create_binary_flags ejecutada en 0.00 segundos\n",
      "2024-08-10 16:50:07,053 - __main__ - INFO - Función prepare_data completada\n",
      "2024-08-10 16:50:07,053 - __main__ - INFO - Función prepare_data ejecutada en 0.01 segundos\n",
      "2024-08-10 16:50:07,054 - __main__ - INFO - Llamando a la función: get_prepared_data\n",
      "2024-08-10 16:50:07,054 - __main__ - INFO - Función get_prepared_data completada\n",
      "2024-08-10 16:50:07,054 - __main__ - INFO - Función get_prepared_data ejecutada en 0.00 segundos\n",
      "2024-08-10 16:50:07,055 - __main__ - INFO - Llamando a la función: predict\n",
      "2024-08-10 16:50:07,055 - __main__ - INFO - Llamando a la función: predict_proba\n",
      "2024-08-10 16:50:07,058 - __main__ - INFO - Función predict_proba completada\n",
      "2024-08-10 16:50:07,058 - __main__ - INFO - Función predict_proba ejecutada en 0.00 segundos\n",
      "2024-08-10 16:50:07,058 - __main__ - INFO - Función predict completada\n",
      "2024-08-10 16:50:07,059 - __main__ - INFO - Función predict ejecutada en 0.00 segundos\n"
     ]
    },
    {
     "name": "stdout",
     "output_type": "stream",
     "text": [
      "Predicción: No Abandono\n",
      "Probabilidad de Abandono: 0.00\n",
      "Probabilidad de No Abandono: 1.00\n",
      "\n",
      "Explicación detallada:\n",
      "  Based on the given customer data, the prediction of \"No Churn\" and the churn probability of 0.00 suggest that the model has determined that this customer is highly unlikely to churn or cancel their service.\n",
      "\n",
      "Here are some possible reasons why the model arrived at this prediction:\n",
      "\n",
      "1. High Credit Score: A credit score of 600 indicates that the customer has a good credit history and is likely to be financially stable. This reduces the likelihood of the customer defaulting on their payments or canceling their service due to financial difficulties.\n",
      "2. Long Tenure: The customer has been with the company for 5 years, indicating a long-term commitment to the service. This suggests that the customer is satisfied with the service and is less likely to switch to a competitor.\n",
      "3. High Balance: The customer has a high balance of 60000, which suggests that they are a valuable customer to the company. This could indicate that the customer is using the service extensively and is less likely to cancel it.\n",
      "4. Multiple Products: The customer has two products, which suggests that they are using the service for multiple purposes. This could indicate a higher level of satisfaction with the service and a lower likelihood of churn.\n",
      "5. Active Member: The customer is an active member, which suggests that they are actively using the service and are engaged with the company\n"
     ]
    }
   ],
   "execution_count": 40
  },
  {
   "metadata": {},
   "cell_type": "code",
   "outputs": [],
   "execution_count": null,
   "source": "",
   "id": "8f26a91b4106b1a8"
  }
 ],
 "metadata": {
  "kernelspec": {
   "display_name": "Python 3",
   "language": "python",
   "name": "python3"
  },
  "language_info": {
   "codemirror_mode": {
    "name": "ipython",
    "version": 2
   },
   "file_extension": ".py",
   "mimetype": "text/x-python",
   "name": "python",
   "nbconvert_exporter": "python",
   "pygments_lexer": "ipython2",
   "version": "2.7.6"
  }
 },
 "nbformat": 4,
 "nbformat_minor": 5
}
